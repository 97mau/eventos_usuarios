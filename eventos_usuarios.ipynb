{
 "cells": [
  {
   "cell_type": "markdown",
   "metadata": {},
   "source": [
    "# Descripción de proyecto"
   ]
  },
  {
   "cell_type": "markdown",
   "metadata": {},
   "source": [
    "En este proyecto estudiaremos el comportamiento del usuario para la aplicación en una empresa emergente que vende productos alimenticios. Primero estudiaremos el embudo de ventas, para descubrir como los usuarios llegan a la etapa de compra. ¿Cuántos usuarios o usuarias realmente llegan a esta etapa? ¿Cuántos se atascan en etapas anteriores? ¿Qué etapas en particular?\n",
    "Posteriormente, realizaremos un test A/A/B ya que al equipo de diseño le gustaría cambiar las fuentes de toda la aplicación, pero la gerencia teme que los usuarios y las usuarias piensen que el nuevo diseño es intimidante. Por ello, se hará la decisión basada en los resultados de un test A/A/B.\n"
   ]
  },
  {
   "cell_type": "markdown",
   "metadata": {},
   "source": [
    "\n",
    "# Inicialización"
   ]
  },
  {
   "cell_type": "markdown",
   "metadata": {},
   "source": [
    "En esta etapa vamos a cargar las librerías a ocupar para el estudio."
   ]
  },
  {
   "cell_type": "code",
   "execution_count": 95,
   "metadata": {},
   "outputs": [],
   "source": [
    "# Cargar todas las librerías\n",
    "import pandas as pd\n",
    "import math\n",
    "from datetime import datetime\n",
    "import matplotlib.pyplot as plt\n",
    "import seaborn as sns\n",
    "import numpy as np\n",
    "from scipy import stats as st\n",
    "\n",
    "sns.set_palette(palette='tab10')"
   ]
  },
  {
   "cell_type": "markdown",
   "metadata": {},
   "source": [
    "# Cargar los datos"
   ]
  },
  {
   "cell_type": "markdown",
   "metadata": {},
   "source": [
    "En esta sección vamos a cargar el set de datos y revisar que las variables tengan el tipo de datos adecuado."
   ]
  },
  {
   "cell_type": "code",
   "execution_count": 96,
   "metadata": {},
   "outputs": [],
   "source": [
    "# creamos el dataframe que contiene los datos del estudio\n",
    "logs_data = pd.read_csv('/datasets/logs_exp_us.csv',sep='\\t')"
   ]
  },
  {
   "cell_type": "code",
   "execution_count": 97,
   "metadata": {},
   "outputs": [
    {
     "data": {
      "text/html": [
       "<div>\n",
       "<style scoped>\n",
       "    .dataframe tbody tr th:only-of-type {\n",
       "        vertical-align: middle;\n",
       "    }\n",
       "\n",
       "    .dataframe tbody tr th {\n",
       "        vertical-align: top;\n",
       "    }\n",
       "\n",
       "    .dataframe thead th {\n",
       "        text-align: right;\n",
       "    }\n",
       "</style>\n",
       "<table border=\"1\" class=\"dataframe\">\n",
       "  <thead>\n",
       "    <tr style=\"text-align: right;\">\n",
       "      <th></th>\n",
       "      <th>EventName</th>\n",
       "      <th>DeviceIDHash</th>\n",
       "      <th>EventTimestamp</th>\n",
       "      <th>ExpId</th>\n",
       "    </tr>\n",
       "  </thead>\n",
       "  <tbody>\n",
       "    <tr>\n",
       "      <th>0</th>\n",
       "      <td>MainScreenAppear</td>\n",
       "      <td>4575588528974610257</td>\n",
       "      <td>1564029816</td>\n",
       "      <td>246</td>\n",
       "    </tr>\n",
       "    <tr>\n",
       "      <th>1</th>\n",
       "      <td>MainScreenAppear</td>\n",
       "      <td>7416695313311560658</td>\n",
       "      <td>1564053102</td>\n",
       "      <td>246</td>\n",
       "    </tr>\n",
       "    <tr>\n",
       "      <th>2</th>\n",
       "      <td>PaymentScreenSuccessful</td>\n",
       "      <td>3518123091307005509</td>\n",
       "      <td>1564054127</td>\n",
       "      <td>248</td>\n",
       "    </tr>\n",
       "    <tr>\n",
       "      <th>3</th>\n",
       "      <td>CartScreenAppear</td>\n",
       "      <td>3518123091307005509</td>\n",
       "      <td>1564054127</td>\n",
       "      <td>248</td>\n",
       "    </tr>\n",
       "    <tr>\n",
       "      <th>4</th>\n",
       "      <td>PaymentScreenSuccessful</td>\n",
       "      <td>6217807653094995999</td>\n",
       "      <td>1564055322</td>\n",
       "      <td>248</td>\n",
       "    </tr>\n",
       "  </tbody>\n",
       "</table>\n",
       "</div>"
      ],
      "text/plain": [
       "                 EventName         DeviceIDHash  EventTimestamp  ExpId\n",
       "0         MainScreenAppear  4575588528974610257      1564029816    246\n",
       "1         MainScreenAppear  7416695313311560658      1564053102    246\n",
       "2  PaymentScreenSuccessful  3518123091307005509      1564054127    248\n",
       "3         CartScreenAppear  3518123091307005509      1564054127    248\n",
       "4  PaymentScreenSuccessful  6217807653094995999      1564055322    248"
      ]
     },
     "execution_count": 97,
     "metadata": {},
     "output_type": "execute_result"
    }
   ],
   "source": [
    "# revisamos la estructura del set de datos\n",
    "logs_data.head()"
   ]
  },
  {
   "cell_type": "code",
   "execution_count": 98,
   "metadata": {},
   "outputs": [
    {
     "name": "stdout",
     "output_type": "stream",
     "text": [
      "<class 'pandas.core.frame.DataFrame'>\n",
      "RangeIndex: 244126 entries, 0 to 244125\n",
      "Data columns (total 4 columns):\n",
      " #   Column          Non-Null Count   Dtype \n",
      "---  ------          --------------   ----- \n",
      " 0   EventName       244126 non-null  object\n",
      " 1   DeviceIDHash    244126 non-null  int64 \n",
      " 2   EventTimestamp  244126 non-null  int64 \n",
      " 3   ExpId           244126 non-null  int64 \n",
      "dtypes: int64(3), object(1)\n",
      "memory usage: 22.9 MB\n"
     ]
    }
   ],
   "source": [
    "# mostramos información general de los datos\n",
    "logs_data.info(memory_usage='deep')"
   ]
  },
  {
   "cell_type": "markdown",
   "metadata": {},
   "source": [
    "**Descripción de los datos:**\n",
    "\n",
    "Cada entrada de registro es una acción de usuario o un evento.\n",
    "\n",
    "**EventName:** nombre del evento.\n",
    "\n",
    "**DeviceIDHash:** identificador de usuario unívoco.\n",
    "\n",
    "**EventTimestamp:** hora del evento.\n",
    "\n",
    "**ExpId:** número de experimento: 246 y 247 son los grupos de control, 248 es el grupo de prueba.\n",
    "\n",
    "Notamos que la columna 'EventTimestamp' registra el tipo de datos como 'int64' cuando es de tipo 'Timestamp' , pero además necesitamos que se muestre como tipo 'datetime'. \n",
    "\n",
    "Así que vamos a proceder a transformar el tipo de datos de esta columna a 'datetime'."
   ]
  },
  {
   "cell_type": "markdown",
   "metadata": {},
   "source": [
    "## Procesamiento de datos"
   ]
  },
  {
   "cell_type": "markdown",
   "metadata": {},
   "source": [
    "En esta sección vamos a asegurarnos que las variables para que tengan el tipo de datos adecuado. Revisaremos el set de datos en busca de datos nulos o duplicados."
   ]
  },
  {
   "cell_type": "code",
   "execution_count": 99,
   "metadata": {},
   "outputs": [],
   "source": [
    "# cambiamos el nombre de las columnas\n",
    "logs_data.columns=['event_name','device_id_hash','event_timestamp','exp_id']"
   ]
  },
  {
   "cell_type": "markdown",
   "metadata": {},
   "source": [
    "**Cambiar tipo de datos**"
   ]
  },
  {
   "cell_type": "code",
   "execution_count": 100,
   "metadata": {},
   "outputs": [],
   "source": [
    "# transformamos el tipo de datos de la columna 'event_timestamp' a 'datetime'\n",
    "logs_data['event_timestamp']=pd.to_datetime(logs_data['event_timestamp'],unit='s')"
   ]
  },
  {
   "cell_type": "code",
   "execution_count": 101,
   "metadata": {},
   "outputs": [
    {
     "data": {
      "text/html": [
       "<div>\n",
       "<style scoped>\n",
       "    .dataframe tbody tr th:only-of-type {\n",
       "        vertical-align: middle;\n",
       "    }\n",
       "\n",
       "    .dataframe tbody tr th {\n",
       "        vertical-align: top;\n",
       "    }\n",
       "\n",
       "    .dataframe thead th {\n",
       "        text-align: right;\n",
       "    }\n",
       "</style>\n",
       "<table border=\"1\" class=\"dataframe\">\n",
       "  <thead>\n",
       "    <tr style=\"text-align: right;\">\n",
       "      <th></th>\n",
       "      <th>event_name</th>\n",
       "      <th>device_id_hash</th>\n",
       "      <th>event_timestamp</th>\n",
       "      <th>exp_id</th>\n",
       "    </tr>\n",
       "  </thead>\n",
       "  <tbody>\n",
       "    <tr>\n",
       "      <th>83324</th>\n",
       "      <td>MainScreenAppear</td>\n",
       "      <td>5843885170730952253</td>\n",
       "      <td>2019-08-03 09:22:04</td>\n",
       "      <td>246</td>\n",
       "    </tr>\n",
       "    <tr>\n",
       "      <th>76480</th>\n",
       "      <td>PaymentScreenSuccessful</td>\n",
       "      <td>6847206579854335590</td>\n",
       "      <td>2019-08-03 05:02:40</td>\n",
       "      <td>246</td>\n",
       "    </tr>\n",
       "  </tbody>\n",
       "</table>\n",
       "</div>"
      ],
      "text/plain": [
       "                    event_name       device_id_hash     event_timestamp  \\\n",
       "83324         MainScreenAppear  5843885170730952253 2019-08-03 09:22:04   \n",
       "76480  PaymentScreenSuccessful  6847206579854335590 2019-08-03 05:02:40   \n",
       "\n",
       "       exp_id  \n",
       "83324     246  \n",
       "76480     246  "
      ]
     },
     "execution_count": 101,
     "metadata": {},
     "output_type": "execute_result"
    }
   ],
   "source": [
    "# verificamos que se haya creado adecuadamente\n",
    "logs_data.sample(2)"
   ]
  },
  {
   "cell_type": "markdown",
   "metadata": {},
   "source": [
    "**Buscar datos nulos**"
   ]
  },
  {
   "cell_type": "code",
   "execution_count": 102,
   "metadata": {},
   "outputs": [
    {
     "data": {
      "text/plain": [
       "event_name         0\n",
       "device_id_hash     0\n",
       "event_timestamp    0\n",
       "exp_id             0\n",
       "dtype: int64"
      ]
     },
     "execution_count": 102,
     "metadata": {},
     "output_type": "execute_result"
    }
   ],
   "source": [
    "# revisamos valores nulos en el set de datos\n",
    "logs_data.isna().sum()"
   ]
  },
  {
   "cell_type": "code",
   "execution_count": 103,
   "metadata": {},
   "outputs": [
    {
     "data": {
      "text/plain": [
       "413"
      ]
     },
     "execution_count": 103,
     "metadata": {},
     "output_type": "execute_result"
    }
   ],
   "source": [
    "# revisamos valores duplicados\n",
    "logs_data.duplicated().sum()"
   ]
  },
  {
   "cell_type": "code",
   "execution_count": 104,
   "metadata": {},
   "outputs": [],
   "source": [
    "# eliminamos estos duplicados obvios, reseteamos indices\n",
    "logs_data=logs_data.drop_duplicates().reset_index(drop=True)"
   ]
  },
  {
   "cell_type": "code",
   "execution_count": 105,
   "metadata": {},
   "outputs": [
    {
     "data": {
      "text/plain": [
       "0"
      ]
     },
     "execution_count": 105,
     "metadata": {},
     "output_type": "execute_result"
    }
   ],
   "source": [
    "# revisamos nuevamente en busca de valores duplicados\n",
    "logs_data.duplicated().sum()"
   ]
  },
  {
   "cell_type": "markdown",
   "metadata": {},
   "source": [
    "**Crear columna de fecha**"
   ]
  },
  {
   "cell_type": "code",
   "execution_count": 106,
   "metadata": {},
   "outputs": [],
   "source": [
    "# extraemos la fecha de la columna 'event_timestamp'\n",
    "logs_data['date']=logs_data['event_timestamp'].astype('datetime64[D]')"
   ]
  },
  {
   "cell_type": "code",
   "execution_count": 107,
   "metadata": {
    "scrolled": true
   },
   "outputs": [
    {
     "data": {
      "text/html": [
       "<div>\n",
       "<style scoped>\n",
       "    .dataframe tbody tr th:only-of-type {\n",
       "        vertical-align: middle;\n",
       "    }\n",
       "\n",
       "    .dataframe tbody tr th {\n",
       "        vertical-align: top;\n",
       "    }\n",
       "\n",
       "    .dataframe thead th {\n",
       "        text-align: right;\n",
       "    }\n",
       "</style>\n",
       "<table border=\"1\" class=\"dataframe\">\n",
       "  <thead>\n",
       "    <tr style=\"text-align: right;\">\n",
       "      <th></th>\n",
       "      <th>event_name</th>\n",
       "      <th>device_id_hash</th>\n",
       "      <th>event_timestamp</th>\n",
       "      <th>exp_id</th>\n",
       "      <th>date</th>\n",
       "    </tr>\n",
       "  </thead>\n",
       "  <tbody>\n",
       "    <tr>\n",
       "      <th>60999</th>\n",
       "      <td>MainScreenAppear</td>\n",
       "      <td>7474430392849688240</td>\n",
       "      <td>2019-08-02 14:38:31</td>\n",
       "      <td>246</td>\n",
       "      <td>2019-08-02</td>\n",
       "    </tr>\n",
       "    <tr>\n",
       "      <th>165316</th>\n",
       "      <td>CartScreenAppear</td>\n",
       "      <td>5481378733233911783</td>\n",
       "      <td>2019-08-05 15:43:37</td>\n",
       "      <td>246</td>\n",
       "      <td>2019-08-05</td>\n",
       "    </tr>\n",
       "  </tbody>\n",
       "</table>\n",
       "</div>"
      ],
      "text/plain": [
       "              event_name       device_id_hash     event_timestamp  exp_id  \\\n",
       "60999   MainScreenAppear  7474430392849688240 2019-08-02 14:38:31     246   \n",
       "165316  CartScreenAppear  5481378733233911783 2019-08-05 15:43:37     246   \n",
       "\n",
       "             date  \n",
       "60999  2019-08-02  \n",
       "165316 2019-08-05  "
      ]
     },
     "execution_count": 107,
     "metadata": {},
     "output_type": "execute_result"
    }
   ],
   "source": [
    "# mostramos parte de los datos\n",
    "logs_data.sample(2)"
   ]
  },
  {
   "cell_type": "markdown",
   "metadata": {},
   "source": [
    "## Análisis exploratorio de los datos"
   ]
  },
  {
   "cell_type": "markdown",
   "metadata": {},
   "source": [
    "En esta sección vamos a realizar un análisis exploratorio de los datos para asegurar la calidad de los datos, evaluar o modificar su estructura, buscar relaciones y patrones, analizar datos categóricos."
   ]
  },
  {
   "cell_type": "code",
   "execution_count": 108,
   "metadata": {},
   "outputs": [
    {
     "data": {
      "text/html": [
       "<div>\n",
       "<style scoped>\n",
       "    .dataframe tbody tr th:only-of-type {\n",
       "        vertical-align: middle;\n",
       "    }\n",
       "\n",
       "    .dataframe tbody tr th {\n",
       "        vertical-align: top;\n",
       "    }\n",
       "\n",
       "    .dataframe thead th {\n",
       "        text-align: right;\n",
       "    }\n",
       "</style>\n",
       "<table border=\"1\" class=\"dataframe\">\n",
       "  <thead>\n",
       "    <tr style=\"text-align: right;\">\n",
       "      <th></th>\n",
       "      <th>event_name</th>\n",
       "      <th>proportion</th>\n",
       "    </tr>\n",
       "  </thead>\n",
       "  <tbody>\n",
       "    <tr>\n",
       "      <th>0</th>\n",
       "      <td>MainScreenAppear</td>\n",
       "      <td>0.488694</td>\n",
       "    </tr>\n",
       "    <tr>\n",
       "      <th>1</th>\n",
       "      <td>OffersScreenAppear</td>\n",
       "      <td>0.192062</td>\n",
       "    </tr>\n",
       "    <tr>\n",
       "      <th>2</th>\n",
       "      <td>CartScreenAppear</td>\n",
       "      <td>0.175075</td>\n",
       "    </tr>\n",
       "    <tr>\n",
       "      <th>3</th>\n",
       "      <td>PaymentScreenSuccessful</td>\n",
       "      <td>0.139993</td>\n",
       "    </tr>\n",
       "    <tr>\n",
       "      <th>4</th>\n",
       "      <td>Tutorial</td>\n",
       "      <td>0.004177</td>\n",
       "    </tr>\n",
       "  </tbody>\n",
       "</table>\n",
       "</div>"
      ],
      "text/plain": [
       "                event_name  proportion\n",
       "0         MainScreenAppear    0.488694\n",
       "1       OffersScreenAppear    0.192062\n",
       "2         CartScreenAppear    0.175075\n",
       "3  PaymentScreenSuccessful    0.139993\n",
       "4                 Tutorial    0.004177"
      ]
     },
     "execution_count": 108,
     "metadata": {},
     "output_type": "execute_result"
    }
   ],
   "source": [
    "# creamos el set de datos para la proporcion del tipo de evento\n",
    "data=logs_data['event_name'].value_counts(normalize=True).reset_index()\n",
    "data.columns=['event_name','proportion']\n",
    "data"
   ]
  },
  {
   "cell_type": "code",
   "execution_count": 109,
   "metadata": {},
   "outputs": [
    {
     "data": {
      "image/png": "[encoded data removed]",
      "text/plain": [
       "<Figure size 576x432 with 1 Axes>"
      ]
     },
     "metadata": {
      "needs_background": "light"
     },
     "output_type": "display_data"
    }
   ],
   "source": [
    "# observemos la distribucion de los tipos de eventos\n",
    "fig,ax=plt.subplots(figsize=(8,6))\n",
    "ax=sns.barplot(data=data,x='proportion',y='event_name')\n",
    "\n",
    "for rect in ax.patches:\n",
    "    # Get X and Y placement of label from rect.\n",
    "    x_value = rect.get_width()\n",
    "    y_value = rect.get_y() + rect.get_height() / 2\n",
    "\n",
    "    # Number of points between bar and label\n",
    "    space = 3\n",
    "    # Vertical alignment 'va'\n",
    "\n",
    "    # Use X value as label and format percent\n",
    "    label = \"{:.1%}\".format(x_value)\n",
    "\n",
    "    # Create annotation\n",
    "    ax.annotate(\n",
    "        label,                      # Use `label` as label\n",
    "        (x_value, y_value),         # Place label at end of the bar\n",
    "        xytext=(space,0),          # Vertically shift label by `space`\n",
    "        textcoords=\"offset points\", # Interpret `xytext` as offset in points\n",
    "        ha='left',                  # Horizontally center label\n",
    "        va='center')     \n",
    "    \n",
    "plt.xlim(0,data['proportion'].max()*1.1)\n",
    "plt.title('Proporción de los distintos tipos de eventos', fontsize=18)\n",
    "plt.ylabel('')\n",
    "plt.show()"
   ]
  },
  {
   "cell_type": "markdown",
   "metadata": {},
   "source": [
    "Podemos observar que el evento 'MainScreenAppear' es el más frecuente, mientras que 'Tutorial' es el de menor ocurrencia."
   ]
  },
  {
   "cell_type": "code",
   "execution_count": 110,
   "metadata": {},
   "outputs": [
    {
     "data": {
      "text/plain": [
       "'7,551'"
      ]
     },
     "execution_count": 110,
     "metadata": {},
     "output_type": "execute_result"
    }
   ],
   "source": [
    "# contamos la cantidad de usuarios unicos\n",
    "(\"{:,}\".format(logs_data['device_id_hash'].nunique()))"
   ]
  },
  {
   "cell_type": "code",
   "execution_count": 111,
   "metadata": {},
   "outputs": [
    {
     "name": "stdout",
     "output_type": "stream",
     "text": [
      "El total de datos es:  243713\n"
     ]
    },
    {
     "data": {
      "text/plain": [
       "248    85,582\n",
       "246    80,181\n",
       "247    77,950\n",
       "Name: exp_id, dtype: object"
      ]
     },
     "execution_count": 111,
     "metadata": {},
     "output_type": "execute_result"
    }
   ],
   "source": [
    "# contamos la cantidad de datos para cada tipo de prueba\n",
    "print(\"El total de datos es: \",logs_data.shape[0])\n",
    "logs_data['exp_id'].value_counts().map(\"{:,}\".format)"
   ]
  },
  {
   "cell_type": "markdown",
   "metadata": {},
   "source": [
    "Podemos observar que la cantidad de datos para cada tipo de prueba no es el mismo, aunque si muy semejante. Tenemos 7,551 usuarios y 243,713 registros en el estudio."
   ]
  },
  {
   "cell_type": "markdown",
   "metadata": {},
   "source": [
    "## Histograma para la distribución de los datos"
   ]
  },
  {
   "cell_type": "code",
   "execution_count": 112,
   "metadata": {},
   "outputs": [
    {
     "name": "stdout",
     "output_type": "stream",
     "text": [
      "La fecha inicial es:  2019-07-25 00:00:00\n",
      "La fecha final es:  2019-08-07 00:00:00\n",
      "Días del estudio:  13\n"
     ]
    }
   ],
   "source": [
    "# veamos las fechas de inicio y final del set de datos\n",
    "print(\"La fecha inicial es: \",logs_data['date'].min())\n",
    "print(\"La fecha final es: \",logs_data['date'].max())\n",
    "print(\"Días del estudio: \",(logs_data['date'].max()-logs_data['date'].min()).days)"
   ]
  },
  {
   "cell_type": "code",
   "execution_count": 113,
   "metadata": {},
   "outputs": [
    {
     "data": {
      "image/png": "[encoded data removed]",
      "text/plain": [
       "<Figure size 576x432 with 1 Axes>"
      ]
     },
     "metadata": {
      "needs_background": "light"
     },
     "output_type": "display_data"
    }
   ],
   "source": [
    "# creamos un histograma para la distribucion de los datos\n",
    "data=logs_data['event_timestamp']\n",
    "fig,ax=plt.subplots(figsize=(8,6))\n",
    "ax=sns.histplot(data=data,bins=50)\n",
    "plt.xticks(rotation=45,ha='right')\n",
    "plt.title('Distribución de los eventos',fontsize=18)\n",
    "plt.xlabel('')\n",
    "plt.show()"
   ]
  },
  {
   "cell_type": "markdown",
   "metadata": {},
   "source": [
    "Podemos observar que el rango de tiempo del estudio es de 13 días. A partir del día '2019-08-01' los datos empiezan a tener una distribución muy parecida, así que vamos a filtrar los datos a partir de dicha fecha."
   ]
  },
  {
   "cell_type": "code",
   "execution_count": 114,
   "metadata": {},
   "outputs": [],
   "source": [
    "# creamos un set de datos filtrado a partir del dia '2019-08-01'\n",
    "filtered_logs=logs_data[logs_data['date']>='2019-08-01']"
   ]
  },
  {
   "cell_type": "code",
   "execution_count": 115,
   "metadata": {},
   "outputs": [
    {
     "name": "stdout",
     "output_type": "stream",
     "text": [
      "Días del estudio:  6\n"
     ]
    }
   ],
   "source": [
    "# dias de estudio para los datos filtrados\n",
    "print(\"Días del estudio: \",(filtered_logs['date'].max()-filtered_logs['date'].min()).days)"
   ]
  },
  {
   "cell_type": "markdown",
   "metadata": {},
   "source": [
    "**Tenemos seis días efectivos de datos para el estudio.**  Veamos cuántos datos y usuarios se perdieron al eliminar los datos más antiguos."
   ]
  },
  {
   "cell_type": "code",
   "execution_count": 116,
   "metadata": {},
   "outputs": [
    {
     "data": {
      "text/plain": [
       "'2,826'"
      ]
     },
     "execution_count": 116,
     "metadata": {},
     "output_type": "execute_result"
    }
   ],
   "source": [
    "# contamos la cantidad de datos perdidos\n",
    "(\"{:,}\".format(logs_data.query(\"date<'2019-08-01'\")['event_name'].count()))"
   ]
  },
  {
   "cell_type": "code",
   "execution_count": 117,
   "metadata": {},
   "outputs": [
    {
     "data": {
      "text/plain": [
       "'1,451'"
      ]
     },
     "execution_count": 117,
     "metadata": {},
     "output_type": "execute_result"
    }
   ],
   "source": [
    "# contamos la cantidad de usuarios perdidos\n",
    "(\"{:,}\".format(logs_data.query(\"date<'2019-08-01'\")['device_id_hash'].nunique()))"
   ]
  },
  {
   "cell_type": "markdown",
   "metadata": {},
   "source": [
    "**Al eliminar los datos más antiguos hemos perdido: 2,826 datos y 1,451 usuarios. Lo que nos representa 2,826/243,713=1.16% de los datos.**\n"
   ]
  },
  {
   "cell_type": "code",
   "execution_count": 118,
   "metadata": {},
   "outputs": [
    {
     "data": {
      "text/plain": [
       "248    35.1%\n",
       "246    32.9%\n",
       "247    32.0%\n",
       "Name: exp_id, dtype: object"
      ]
     },
     "execution_count": 118,
     "metadata": {},
     "output_type": "execute_result"
    }
   ],
   "source": [
    "# mostramos los porcentajes para las categorias en la columna 'exp_id' de los datos filtrados\n",
    "filtered_logs['exp_id'].value_counts(normalize=True).map(\"{:.1%}\".format)"
   ]
  },
  {
   "cell_type": "markdown",
   "metadata": {},
   "source": [
    "**Podemos notar que, en el conjunto de datos filtrados, tenemos presencia de los tres grupos experimentales y en proporciones muy similares.**"
   ]
  },
  {
   "cell_type": "markdown",
   "metadata": {},
   "source": [
    "## Estudio del tipo de eventos"
   ]
  },
  {
   "cell_type": "markdown",
   "metadata": {},
   "source": [
    "Para estudiar las métricas relacionadas con los tipos de eventos vamos a hacer uso del data set filtrado 'filtered_logs'."
   ]
  },
  {
   "cell_type": "markdown",
   "metadata": {},
   "source": [
    "***Tipo de evento y su frecuencia de uso***"
   ]
  },
  {
   "cell_type": "code",
   "execution_count": 119,
   "metadata": {
    "scrolled": true
   },
   "outputs": [
    {
     "data": {
      "text/plain": [
       "MainScreenAppear           117,328\n",
       "OffersScreenAppear          46,333\n",
       "CartScreenAppear            42,303\n",
       "PaymentScreenSuccessful     33,918\n",
       "Tutorial                     1,005\n",
       "Name: event_name, dtype: object"
      ]
     },
     "execution_count": 119,
     "metadata": {},
     "output_type": "execute_result"
    }
   ],
   "source": [
    "# veamos el tipo de evento y su frecuencia de suceso\n",
    "filtered_logs['event_name'].value_counts().map(\"{:,}\".format)"
   ]
  },
  {
   "cell_type": "markdown",
   "metadata": {},
   "source": [
    "**Cantidad de usuarios por evento**"
   ]
  },
  {
   "cell_type": "markdown",
   "metadata": {},
   "source": [
    "Calcularemos la proporción de usuarios que realizaron la acción al menos una vez."
   ]
  },
  {
   "cell_type": "code",
   "execution_count": 120,
   "metadata": {
    "scrolled": true
   },
   "outputs": [
    {
     "data": {
      "text/html": [
       "<style  type=\"text/css\" >\n",
       "</style><table id=\"T_a1f21_\" ><thead>    <tr>        <th class=\"blank level0\" ></th>        <th class=\"col_heading level0 col0\" >event_name</th>        <th class=\"col_heading level0 col1\" >users_event</th>        <th class=\"col_heading level0 col2\" >proportion</th>    </tr></thead><tbody>\n",
       "                <tr>\n",
       "                        <th id=\"T_a1f21_level0_row0\" class=\"row_heading level0 row0\" >0</th>\n",
       "                        <td id=\"T_a1f21_row0_col0\" class=\"data row0 col0\" >MainScreenAppear</td>\n",
       "                        <td id=\"T_a1f21_row0_col1\" class=\"data row0 col1\" >7,419</td>\n",
       "                        <td id=\"T_a1f21_row0_col2\" class=\"data row0 col2\" >36.9%</td>\n",
       "            </tr>\n",
       "            <tr>\n",
       "                        <th id=\"T_a1f21_level0_row1\" class=\"row_heading level0 row1\" >1</th>\n",
       "                        <td id=\"T_a1f21_row1_col0\" class=\"data row1 col0\" >OffersScreenAppear</td>\n",
       "                        <td id=\"T_a1f21_row1_col1\" class=\"data row1 col1\" >4,593</td>\n",
       "                        <td id=\"T_a1f21_row1_col2\" class=\"data row1 col2\" >22.8%</td>\n",
       "            </tr>\n",
       "            <tr>\n",
       "                        <th id=\"T_a1f21_level0_row2\" class=\"row_heading level0 row2\" >2</th>\n",
       "                        <td id=\"T_a1f21_row2_col0\" class=\"data row2 col0\" >CartScreenAppear</td>\n",
       "                        <td id=\"T_a1f21_row2_col1\" class=\"data row2 col1\" >3,734</td>\n",
       "                        <td id=\"T_a1f21_row2_col2\" class=\"data row2 col2\" >18.6%</td>\n",
       "            </tr>\n",
       "            <tr>\n",
       "                        <th id=\"T_a1f21_level0_row3\" class=\"row_heading level0 row3\" >3</th>\n",
       "                        <td id=\"T_a1f21_row3_col0\" class=\"data row3 col0\" >PaymentScreenSuccessful</td>\n",
       "                        <td id=\"T_a1f21_row3_col1\" class=\"data row3 col1\" >3,539</td>\n",
       "                        <td id=\"T_a1f21_row3_col2\" class=\"data row3 col2\" >17.6%</td>\n",
       "            </tr>\n",
       "            <tr>\n",
       "                        <th id=\"T_a1f21_level0_row4\" class=\"row_heading level0 row4\" >4</th>\n",
       "                        <td id=\"T_a1f21_row4_col0\" class=\"data row4 col0\" >Tutorial</td>\n",
       "                        <td id=\"T_a1f21_row4_col1\" class=\"data row4 col1\" >840</td>\n",
       "                        <td id=\"T_a1f21_row4_col2\" class=\"data row4 col2\" >4.2%</td>\n",
       "            </tr>\n",
       "    </tbody></table>"
      ],
      "text/plain": [
       "<pandas.io.formats.style.Styler at 0x7f586a400940>"
      ]
     },
     "execution_count": 120,
     "metadata": {},
     "output_type": "execute_result"
    }
   ],
   "source": [
    "# veamos la cantidad de usuarios por evento\n",
    "proportion_users_event=filtered_logs.groupby('event_name').agg(users_event=('device_id_hash','nunique'))\\\n",
    "                        .sort_values('users_event',ascending=False).reset_index()\n",
    "proportion_users_event['proportion']= proportion_users_event['users_event']/proportion_users_event['users_event'].sum()\n",
    "proportion_users_event.style.format({\"users_event\":'{:,}',\"proportion\":'{:.1%}'})"
   ]
  },
  {
   "cell_type": "markdown",
   "metadata": {},
   "source": [
    "El evento llamado 'Tutorial' es el único que parece no pertenecer a la secuencia de los demás eventos."
   ]
  },
  {
   "cell_type": "markdown",
   "metadata": {},
   "source": [
    "**La secuencia de eventos está dada en el siguiente orden:**\n",
    "\n",
    "1. MainScreenAppear\n",
    "\n",
    "2. OffersScreenAppear\n",
    "\n",
    "3. CartScreenAppear\n",
    "\n",
    "4. PaymentScreenSuccessful"
   ]
  },
  {
   "cell_type": "code",
   "execution_count": 121,
   "metadata": {},
   "outputs": [],
   "source": [
    "\"\"\"Creamos una función para un gráfico tipo Funnel\"\"\"\n",
    "\n",
    "def crear_grafico_funnel(data,col_datos,col_etapas,formato=\"{:,.0f}\",titulo='Grafico'):\n",
    "    \"\"\"\n",
    "    data=el dataframe de datos con los valores de las etapas, ordenadas de mayor a menor\n",
    "    col_datos=el nombre de la columna del dataframe que contiene los conteos de las etapas\n",
    "    col_etapas=el nombre de la columna del dataframe con los nombre de las etapas\n",
    "    formato= del tipo \"{:,.0f}\" que indica como se muestran las etiquetas de valores de col_datos\n",
    "    titulo= el titulo del grafico ('Grafico')\n",
    "    \"\"\"\n",
    "    fig,ax=plt.subplots(figsize=(10,5))\n",
    "   \n",
    "    ax=sns.barplot(data=data,x=col_datos,y=col_etapas)\n",
    "    \n",
    "    for rect in ax.patches:\n",
    "    # Get X and Y placement of label from rect.\n",
    "        x_value = rect.get_width()\n",
    "        y_value = rect.get_y() + rect.get_height() / 2\n",
    "\n",
    "        # Number of points between bar and label\n",
    "        space = 3\n",
    "        # Vertical alignment 'va'\n",
    "\n",
    "        # Use X value as label and format percent\n",
    "        label =formato.format(x_value)\n",
    "\n",
    "        # Create annotation\n",
    "        ax.annotate(\n",
    "            label,                      # Use `label` as label\n",
    "            (x_value, y_value),         # Place label at end of the bar\n",
    "            xytext=(space,0),          # Horizontally shift label by `space`\n",
    "            textcoords=\"offset points\", # Interpret `xytext` as offset in points\n",
    "            ha='left',                  # Horizontally center label\n",
    "            va='center')     \n",
    "\n",
    "    plt.tight_layout()\n",
    "    plt.xlim(0,data[col_datos].max()*1.1)\n",
    "    plt.xlabel('Usuarios')\n",
    "    plt.ylabel('Evento')\n",
    "    plt.title(titulo)\n",
    "    plt.show()"
   ]
  },
  {
   "cell_type": "code",
   "execution_count": 122,
   "metadata": {
    "scrolled": false
   },
   "outputs": [
    {
     "data": {
      "image/png": "[encoded data removed]",
      "text/plain": [
       "<Figure size 720x360 with 1 Axes>"
      ]
     },
     "metadata": {
      "needs_background": "light"
     },
     "output_type": "display_data"
    }
   ],
   "source": [
    "# creamos el grafico tipo funnel para la cantidad de eventos\n",
    "crear_grafico_funnel(data=proportion_users_event,col_datos='users_event',col_etapas='event_name',\\\n",
    "                     titulo='Cantidad de usuarios por cada evento')"
   ]
  },
  {
   "cell_type": "markdown",
   "metadata": {},
   "source": [
    "## Embudo de productos simples"
   ]
  },
  {
   "cell_type": "markdown",
   "metadata": {},
   "source": [
    "Encontramos la proporción de usuarios que pasan de una etapa a la siguiente para responder a la pregunta: ¿En qué etapa se pierden más usuarios?\n",
    "\n",
    "Hacemos uso del dataframe 'proportion_users_event' que contiene la cantidad de usuarios únicos en cada etapa."
   ]
  },
  {
   "cell_type": "code",
   "execution_count": 123,
   "metadata": {},
   "outputs": [
    {
     "data": {
      "text/html": [
       "<style  type=\"text/css\" >\n",
       "</style><table id=\"T_ee4c1_\" ><thead>    <tr>        <th class=\"blank level0\" ></th>        <th class=\"col_heading level0 col0\" >event_name</th>        <th class=\"col_heading level0 col1\" >users_event</th>        <th class=\"col_heading level0 col2\" >proportion</th>        <th class=\"col_heading level0 col3\" >convertion_total</th>        <th class=\"col_heading level0 col4\" >convertion_previuos_step</th>        <th class=\"col_heading level0 col5\" >dropoff_rate</th>    </tr></thead><tbody>\n",
       "                <tr>\n",
       "                        <th id=\"T_ee4c1_level0_row0\" class=\"row_heading level0 row0\" >0</th>\n",
       "                        <td id=\"T_ee4c1_row0_col0\" class=\"data row0 col0\" >MainScreenAppear</td>\n",
       "                        <td id=\"T_ee4c1_row0_col1\" class=\"data row0 col1\" >7,419</td>\n",
       "                        <td id=\"T_ee4c1_row0_col2\" class=\"data row0 col2\" >36.9%</td>\n",
       "                        <td id=\"T_ee4c1_row0_col3\" class=\"data row0 col3\" >100.0%</td>\n",
       "                        <td id=\"T_ee4c1_row0_col4\" class=\"data row0 col4\" >100.0%</td>\n",
       "                        <td id=\"T_ee4c1_row0_col5\" class=\"data row0 col5\" >0.0%</td>\n",
       "            </tr>\n",
       "            <tr>\n",
       "                        <th id=\"T_ee4c1_level0_row1\" class=\"row_heading level0 row1\" >1</th>\n",
       "                        <td id=\"T_ee4c1_row1_col0\" class=\"data row1 col0\" >OffersScreenAppear</td>\n",
       "                        <td id=\"T_ee4c1_row1_col1\" class=\"data row1 col1\" >4,593</td>\n",
       "                        <td id=\"T_ee4c1_row1_col2\" class=\"data row1 col2\" >22.8%</td>\n",
       "                        <td id=\"T_ee4c1_row1_col3\" class=\"data row1 col3\" >61.9%</td>\n",
       "                        <td id=\"T_ee4c1_row1_col4\" class=\"data row1 col4\" >61.9%</td>\n",
       "                        <td id=\"T_ee4c1_row1_col5\" class=\"data row1 col5\" >38.1%</td>\n",
       "            </tr>\n",
       "            <tr>\n",
       "                        <th id=\"T_ee4c1_level0_row2\" class=\"row_heading level0 row2\" >2</th>\n",
       "                        <td id=\"T_ee4c1_row2_col0\" class=\"data row2 col0\" >CartScreenAppear</td>\n",
       "                        <td id=\"T_ee4c1_row2_col1\" class=\"data row2 col1\" >3,734</td>\n",
       "                        <td id=\"T_ee4c1_row2_col2\" class=\"data row2 col2\" >18.6%</td>\n",
       "                        <td id=\"T_ee4c1_row2_col3\" class=\"data row2 col3\" >50.3%</td>\n",
       "                        <td id=\"T_ee4c1_row2_col4\" class=\"data row2 col4\" >81.3%</td>\n",
       "                        <td id=\"T_ee4c1_row2_col5\" class=\"data row2 col5\" >18.7%</td>\n",
       "            </tr>\n",
       "            <tr>\n",
       "                        <th id=\"T_ee4c1_level0_row3\" class=\"row_heading level0 row3\" >3</th>\n",
       "                        <td id=\"T_ee4c1_row3_col0\" class=\"data row3 col0\" >PaymentScreenSuccessful</td>\n",
       "                        <td id=\"T_ee4c1_row3_col1\" class=\"data row3 col1\" >3,539</td>\n",
       "                        <td id=\"T_ee4c1_row3_col2\" class=\"data row3 col2\" >17.6%</td>\n",
       "                        <td id=\"T_ee4c1_row3_col3\" class=\"data row3 col3\" >47.7%</td>\n",
       "                        <td id=\"T_ee4c1_row3_col4\" class=\"data row3 col4\" >94.8%</td>\n",
       "                        <td id=\"T_ee4c1_row3_col5\" class=\"data row3 col5\" >5.2%</td>\n",
       "            </tr>\n",
       "    </tbody></table>"
      ],
      "text/plain": [
       "<pandas.io.formats.style.Styler at 0x7f5869aace20>"
      ]
     },
     "execution_count": 123,
     "metadata": {},
     "output_type": "execute_result"
    }
   ],
   "source": [
    "# calculamos la cantidad de usuarios unicos en la primera etapa\n",
    "n=proportion_users_event['users_event'].max()\n",
    "\n",
    "# calculamos la conversion total en cada etapa\n",
    "proportion_users_event['convertion_total']=proportion_users_event['users_event']/n\n",
    "\n",
    "# desplazamos los elementos en la columna 'users_event' en una posicion\n",
    "proportion_users_event['users_event_previuos_step']=proportion_users_event['users_event'].shift(1)\n",
    "proportion_users_event['users_event_previuos_step'].fillna(n,inplace=True)\n",
    "\n",
    "# calculamos la conversion a la siguiente etapa\n",
    "proportion_users_event['convertion_previuos_step']=proportion_users_event['users_event']\\\n",
    "                                                /proportion_users_event['users_event_previuos_step']\n",
    "\n",
    "# calculamos la tasa de perdida de usuarios\n",
    "proportion_users_event['dropoff_rate']=1-proportion_users_event['convertion_previuos_step']\n",
    "\n",
    "# eliminamos la columna 'users_event_previuos_step'\n",
    "proportion_users_event.drop('users_event_previuos_step',inplace=True,axis=1)\n",
    "\n",
    "# eliminamos la fila del evento 'Tutorial'\n",
    "proportion_users_event.drop(4,inplace=True,axis=0)\n",
    "\n",
    "proportion_users_event.style.format({\"users_event\":'{:,}','proportion':'{:.1%}',\\\n",
    "                                     'convertion_total':'{:.1%}','convertion_previuos_step':'{:.1%}',\\\n",
    "                                    'dropoff_rate':'{:.1%}'})"
   ]
  },
  {
   "cell_type": "markdown",
   "metadata": {},
   "source": [
    "Al pasar de la etapa 'MainScreenAppear' a la etapa 'OffersScreenAppear' es cuando se pierden hasta el 38% de los usuarios ('dropoff_rate')."
   ]
  },
  {
   "cell_type": "markdown",
   "metadata": {},
   "source": [
    "## Embudo de productos con secuencia de eventos"
   ]
  },
  {
   "cell_type": "markdown",
   "metadata": {},
   "source": [
    "En esta sección estudiamos los detalles de la transición de una etapa a otra. Respondemos a la pregunta: ¿Qué porcentaje de usuarios hace todo el viaje desde su primer evento hasta el pago?\n",
    "\n",
    "Hacemos uso del dataframe 'filtered_logs' que contiene la cantidad de usuarios únicos en cada etapa.\n",
    "\n"
   ]
  },
  {
   "cell_type": "code",
   "execution_count": 124,
   "metadata": {},
   "outputs": [
    {
     "data": {
      "text/html": [
       "<div>\n",
       "<style scoped>\n",
       "    .dataframe tbody tr th:only-of-type {\n",
       "        vertical-align: middle;\n",
       "    }\n",
       "\n",
       "    .dataframe tbody tr th {\n",
       "        vertical-align: top;\n",
       "    }\n",
       "\n",
       "    .dataframe thead th {\n",
       "        text-align: right;\n",
       "    }\n",
       "</style>\n",
       "<table border=\"1\" class=\"dataframe\">\n",
       "  <thead>\n",
       "    <tr style=\"text-align: right;\">\n",
       "      <th>event_name</th>\n",
       "      <th>CartScreenAppear</th>\n",
       "      <th>MainScreenAppear</th>\n",
       "      <th>OffersScreenAppear</th>\n",
       "      <th>PaymentScreenSuccessful</th>\n",
       "      <th>Tutorial</th>\n",
       "    </tr>\n",
       "    <tr>\n",
       "      <th>device_id_hash</th>\n",
       "      <th></th>\n",
       "      <th></th>\n",
       "      <th></th>\n",
       "      <th></th>\n",
       "      <th></th>\n",
       "    </tr>\n",
       "  </thead>\n",
       "  <tbody>\n",
       "    <tr>\n",
       "      <th>7235587238353002284</th>\n",
       "      <td>2019-08-06 16:59:06</td>\n",
       "      <td>2019-08-01 11:16:29</td>\n",
       "      <td>2019-08-06 14:30:56</td>\n",
       "      <td>2019-08-06 16:59:06</td>\n",
       "      <td>NaT</td>\n",
       "    </tr>\n",
       "    <tr>\n",
       "      <th>4734459598810529792</th>\n",
       "      <td>2019-08-01 10:00:36</td>\n",
       "      <td>2019-08-01 10:00:29</td>\n",
       "      <td>2019-08-01 10:00:45</td>\n",
       "      <td>2019-08-01 10:00:36</td>\n",
       "      <td>NaT</td>\n",
       "    </tr>\n",
       "    <tr>\n",
       "      <th>7398064750086769573</th>\n",
       "      <td>NaT</td>\n",
       "      <td>2019-08-07 16:53:58</td>\n",
       "      <td>NaT</td>\n",
       "      <td>NaT</td>\n",
       "      <td>2019-08-07 16:53:31</td>\n",
       "    </tr>\n",
       "    <tr>\n",
       "      <th>8577109005537401828</th>\n",
       "      <td>NaT</td>\n",
       "      <td>2019-08-01 08:40:54</td>\n",
       "      <td>NaT</td>\n",
       "      <td>NaT</td>\n",
       "      <td>NaT</td>\n",
       "    </tr>\n",
       "    <tr>\n",
       "      <th>7826449443626647741</th>\n",
       "      <td>2019-08-01 13:50:52</td>\n",
       "      <td>2019-08-01 12:53:40</td>\n",
       "      <td>2019-08-01 13:49:31</td>\n",
       "      <td>2019-08-02 08:25:51</td>\n",
       "      <td>2019-08-01 12:52:54</td>\n",
       "    </tr>\n",
       "  </tbody>\n",
       "</table>\n",
       "</div>"
      ],
      "text/plain": [
       "event_name             CartScreenAppear    MainScreenAppear  \\\n",
       "device_id_hash                                                \n",
       "7235587238353002284 2019-08-06 16:59:06 2019-08-01 11:16:29   \n",
       "4734459598810529792 2019-08-01 10:00:36 2019-08-01 10:00:29   \n",
       "7398064750086769573                 NaT 2019-08-07 16:53:58   \n",
       "8577109005537401828                 NaT 2019-08-01 08:40:54   \n",
       "7826449443626647741 2019-08-01 13:50:52 2019-08-01 12:53:40   \n",
       "\n",
       "event_name           OffersScreenAppear PaymentScreenSuccessful  \\\n",
       "device_id_hash                                                    \n",
       "7235587238353002284 2019-08-06 14:30:56     2019-08-06 16:59:06   \n",
       "4734459598810529792 2019-08-01 10:00:45     2019-08-01 10:00:36   \n",
       "7398064750086769573                 NaT                     NaT   \n",
       "8577109005537401828                 NaT                     NaT   \n",
       "7826449443626647741 2019-08-01 13:49:31     2019-08-02 08:25:51   \n",
       "\n",
       "event_name                     Tutorial  \n",
       "device_id_hash                           \n",
       "7235587238353002284                 NaT  \n",
       "4734459598810529792                 NaT  \n",
       "7398064750086769573 2019-08-07 16:53:31  \n",
       "8577109005537401828                 NaT  \n",
       "7826449443626647741 2019-08-01 12:52:54  "
      ]
     },
     "execution_count": 124,
     "metadata": {},
     "output_type": "execute_result"
    }
   ],
   "source": [
    "# embudos con secuencia de eventos\n",
    "# para cada usuario debemos encontrar el momento en que se dio un paso en particular por 1ra vez\n",
    "users=filtered_logs.pivot_table(index='device_id_hash',columns='event_name',values='event_timestamp',\\\n",
    "                               aggfunc='min')\n",
    "users.sample(5)"
   ]
  },
  {
   "cell_type": "code",
   "execution_count": 125,
   "metadata": {},
   "outputs": [],
   "source": [
    "# creamos los pasos para cada etapa, el paso posterior debe cumplir con las condiciones del paso previo\n",
    "step_1=users['MainScreenAppear'].notna()\n",
    "step_2=step_1 & (users['OffersScreenAppear']>users['MainScreenAppear'])\n",
    "step_3=step_2 & (users['CartScreenAppear']>users['OffersScreenAppear'])\n",
    "step_4=step_3 & (users['PaymentScreenSuccessful']>users['CartScreenAppear'])"
   ]
  },
  {
   "cell_type": "code",
   "execution_count": 126,
   "metadata": {},
   "outputs": [
    {
     "data": {
      "text/plain": [
       "7419"
      ]
     },
     "execution_count": 126,
     "metadata": {},
     "output_type": "execute_result"
    }
   ],
   "source": [
    "# busquemos ahora los usuarios que completaron el primer paso 'MainScreenAppear'\n",
    "n_users_step_1=users[step_1].shape[0]\n",
    "n_users_step_1"
   ]
  },
  {
   "cell_type": "code",
   "execution_count": 127,
   "metadata": {},
   "outputs": [
    {
     "data": {
      "text/plain": [
       "4201"
      ]
     },
     "execution_count": 127,
     "metadata": {},
     "output_type": "execute_result"
    }
   ],
   "source": [
    "# busquemos ahora los usuarios que completaron el segundo paso 'OffersScreenAppear'\n",
    "n_users_step_2=users[step_2].shape[0]\n",
    "n_users_step_2"
   ]
  },
  {
   "cell_type": "code",
   "execution_count": 128,
   "metadata": {},
   "outputs": [
    {
     "data": {
      "text/plain": [
       "1767"
      ]
     },
     "execution_count": 128,
     "metadata": {},
     "output_type": "execute_result"
    }
   ],
   "source": [
    "# busquemos ahora los usuarios que completaron el tercer paso 'CartScreenAppear'\n",
    "n_users_step_3=users[step_3].shape[0]\n",
    "n_users_step_3"
   ]
  },
  {
   "cell_type": "code",
   "execution_count": 129,
   "metadata": {},
   "outputs": [
    {
     "data": {
      "text/plain": [
       "454"
      ]
     },
     "execution_count": 129,
     "metadata": {},
     "output_type": "execute_result"
    }
   ],
   "source": [
    "# busquemos ahora los usuarios que completaron el cuarto paso 'PaymentScreenSuccessful'\n",
    "n_users_step_4=users[step_4].shape[0]\n",
    "n_users_step_4"
   ]
  },
  {
   "cell_type": "code",
   "execution_count": 130,
   "metadata": {},
   "outputs": [
    {
     "data": {
      "text/plain": [
       "'6.1%'"
      ]
     },
     "execution_count": 130,
     "metadata": {},
     "output_type": "execute_result"
    }
   ],
   "source": [
    "# calculamos el porcentaje de usuarios que completaron del primero al ultimo paso\n",
    "(\"{:.1%}\".format(n_users_step_4/n_users_step_1))"
   ]
  },
  {
   "cell_type": "code",
   "execution_count": 131,
   "metadata": {},
   "outputs": [
    {
     "data": {
      "text/plain": [
       "'25.7%'"
      ]
     },
     "execution_count": 131,
     "metadata": {},
     "output_type": "execute_result"
    }
   ],
   "source": [
    "# calculamos el porcentaje de usuarios que realizaron un pago después de agregar un producto al carrito\n",
    "(\"{:.1%}\".format(n_users_step_4/n_users_step_3))"
   ]
  },
  {
   "cell_type": "markdown",
   "metadata": {},
   "source": [
    "**Tenemos que solo un 6.1% de los usuarios completaron del primer evento hasta el pago. Solo un 25.7% de los usuarios que agregaron un producto al carrito terminaron de realizar el pago.**"
   ]
  },
  {
   "cell_type": "code",
   "execution_count": 132,
   "metadata": {},
   "outputs": [],
   "source": [
    "# creamos un dataframe para los usuarios en la secuencia de eventos\n",
    "users_event=pd.DataFrame({\"etapas\":['MainScreenAppear','OffersScreenAppear','CartScreenAppear','PaymentScreenSuccessful'],\\\n",
    "                         \"users\":[n_users_step_1,n_users_step_2,n_users_step_3,n_users_step_4]})"
   ]
  },
  {
   "cell_type": "code",
   "execution_count": 133,
   "metadata": {
    "scrolled": true
   },
   "outputs": [
    {
     "data": {
      "image/png": "[encoded data removed]",
      "text/plain": [
       "<Figure size 720x360 with 1 Axes>"
      ]
     },
     "metadata": {
      "needs_background": "light"
     },
     "output_type": "display_data"
    }
   ],
   "source": [
    "# creamos el gráfico tipo funnel para la secuencia de eventos\n",
    "crear_grafico_funnel(data=users_event,col_datos='users',col_etapas='etapas',\\\n",
    "                     titulo='Cantidad de usuarios que completaron del primero al último paso')"
   ]
  },
  {
   "cell_type": "markdown",
   "metadata": {},
   "source": [
    "## Pruebas A/A/B"
   ]
  },
  {
   "cell_type": "code",
   "execution_count": 134,
   "metadata": {
    "scrolled": true
   },
   "outputs": [
    {
     "data": {
      "text/html": [
       "<div>\n",
       "<style scoped>\n",
       "    .dataframe tbody tr th:only-of-type {\n",
       "        vertical-align: middle;\n",
       "    }\n",
       "\n",
       "    .dataframe tbody tr th {\n",
       "        vertical-align: top;\n",
       "    }\n",
       "\n",
       "    .dataframe thead th {\n",
       "        text-align: right;\n",
       "    }\n",
       "</style>\n",
       "<table border=\"1\" class=\"dataframe\">\n",
       "  <thead>\n",
       "    <tr style=\"text-align: right;\">\n",
       "      <th></th>\n",
       "      <th>event_name</th>\n",
       "      <th>device_id_hash</th>\n",
       "      <th>event_timestamp</th>\n",
       "      <th>exp_id</th>\n",
       "      <th>date</th>\n",
       "    </tr>\n",
       "  </thead>\n",
       "  <tbody>\n",
       "    <tr>\n",
       "      <th>2826</th>\n",
       "      <td>Tutorial</td>\n",
       "      <td>3737462046622621720</td>\n",
       "      <td>2019-08-01 00:07:28</td>\n",
       "      <td>246</td>\n",
       "      <td>2019-08-01</td>\n",
       "    </tr>\n",
       "    <tr>\n",
       "      <th>2827</th>\n",
       "      <td>MainScreenAppear</td>\n",
       "      <td>3737462046622621720</td>\n",
       "      <td>2019-08-01 00:08:00</td>\n",
       "      <td>246</td>\n",
       "      <td>2019-08-01</td>\n",
       "    </tr>\n",
       "    <tr>\n",
       "      <th>2828</th>\n",
       "      <td>MainScreenAppear</td>\n",
       "      <td>3737462046622621720</td>\n",
       "      <td>2019-08-01 00:08:55</td>\n",
       "      <td>246</td>\n",
       "      <td>2019-08-01</td>\n",
       "    </tr>\n",
       "    <tr>\n",
       "      <th>2829</th>\n",
       "      <td>OffersScreenAppear</td>\n",
       "      <td>3737462046622621720</td>\n",
       "      <td>2019-08-01 00:08:58</td>\n",
       "      <td>246</td>\n",
       "      <td>2019-08-01</td>\n",
       "    </tr>\n",
       "    <tr>\n",
       "      <th>2830</th>\n",
       "      <td>MainScreenAppear</td>\n",
       "      <td>1433840883824088890</td>\n",
       "      <td>2019-08-01 00:08:59</td>\n",
       "      <td>247</td>\n",
       "      <td>2019-08-01</td>\n",
       "    </tr>\n",
       "  </tbody>\n",
       "</table>\n",
       "</div>"
      ],
      "text/plain": [
       "              event_name       device_id_hash     event_timestamp  exp_id  \\\n",
       "2826            Tutorial  3737462046622621720 2019-08-01 00:07:28     246   \n",
       "2827    MainScreenAppear  3737462046622621720 2019-08-01 00:08:00     246   \n",
       "2828    MainScreenAppear  3737462046622621720 2019-08-01 00:08:55     246   \n",
       "2829  OffersScreenAppear  3737462046622621720 2019-08-01 00:08:58     246   \n",
       "2830    MainScreenAppear  1433840883824088890 2019-08-01 00:08:59     247   \n",
       "\n",
       "           date  \n",
       "2826 2019-08-01  \n",
       "2827 2019-08-01  \n",
       "2828 2019-08-01  \n",
       "2829 2019-08-01  \n",
       "2830 2019-08-01  "
      ]
     },
     "execution_count": 134,
     "metadata": {},
     "output_type": "execute_result"
    }
   ],
   "source": [
    "filtered_logs.head()"
   ]
  },
  {
   "cell_type": "markdown",
   "metadata": {},
   "source": [
    "En esta sección estudiamos las test A/B para comparar los dos grupos de control contra el grupo de prueba.\n",
    "\n",
    "Hacemos uso del dataframe 'filtered_logs' que contiene la cantidad de usuarios únicos en cada etapa."
   ]
  },
  {
   "cell_type": "code",
   "execution_count": 135,
   "metadata": {
    "scrolled": true
   },
   "outputs": [
    {
     "data": {
      "text/plain": [
       "248    84563\n",
       "246    79302\n",
       "247    77022\n",
       "Name: exp_id, dtype: int64"
      ]
     },
     "execution_count": 135,
     "metadata": {},
     "output_type": "execute_result"
    }
   ],
   "source": [
    "# contamos la cantidad de usuarios por grupo\n",
    "filtered_logs['exp_id'].value_counts()"
   ]
  },
  {
   "cell_type": "code",
   "execution_count": 136,
   "metadata": {},
   "outputs": [
    {
     "data": {
      "text/plain": [
       "event_name               exp_id\n",
       "CartScreenAppear         248       15179\n",
       "                         246       14690\n",
       "                         247       12434\n",
       "MainScreenAppear         248       40562\n",
       "                         247       39090\n",
       "                         246       37676\n",
       "OffersScreenAppear       248       16387\n",
       "                         247       15179\n",
       "                         246       14767\n",
       "PaymentScreenSuccessful  248       12085\n",
       "                         246       11852\n",
       "                         247        9981\n",
       "Tutorial                 248         350\n",
       "                         247         338\n",
       "                         246         317\n",
       "Name: exp_id, dtype: int64"
      ]
     },
     "execution_count": 136,
     "metadata": {},
     "output_type": "execute_result"
    }
   ],
   "source": [
    "# contamos la cantidad de eventos para grupo\n",
    "filtered_logs.groupby('event_name')['exp_id'].value_counts()"
   ]
  },
  {
   "cell_type": "markdown",
   "metadata": {},
   "source": [
    "La cantidad de registros en cada uno de los grupos de control y prueba es muy parecido. Mientras que el evento más popular es 'MainScreenAppear'."
   ]
  },
  {
   "cell_type": "markdown",
   "metadata": {},
   "source": [
    "### Comparación entre los grupos de control y el grupo de prueba\n"
   ]
  },
  {
   "cell_type": "markdown",
   "metadata": {},
   "source": [
    "Para cada uno de los eventos y los grupos de control o prueba probaremos si existe diferencia entre los grupos. Vamos a calcular la tasa de conversión de los usuarios en cada uno de los grupos."
   ]
  },
  {
   "cell_type": "code",
   "execution_count": 137,
   "metadata": {},
   "outputs": [],
   "source": [
    "\"\"\"Creamos una función para realizar una t-test sobre dos grupos y cada uno de los eventos\"\"\"\n",
    "def ttest_comparation(data,group_1,group_2,alfa,eventos):\n",
    "    \"\"\"\n",
    "    data= el dataframe que contiene los datos filtrados para el estudio\n",
    "    group_1=el grupo_1 donde se realizará la prueba\n",
    "    group_2=el group_2 donde se realizará la prueba\n",
    "    alfa=el nivel de significancia para la prueba\n",
    "    p1,n_group_1=la proporcion y el tamaño de la muestra del grupo_1\n",
    "    p2,n_group_2=la proporcion y el tamaño de la muestra del grupo_2\n",
    "    decision_H0= si se rechaza o no H0\n",
    "    eventos=la lista que contiene los nombres de los eventos para los que se va a realizar la prueba\n",
    "    \"\"\"\n",
    "    # creamos un dataframe para guardar los resultados de las pruebas\n",
    "    df = pd.DataFrame(columns=['event_name', 'statistics','p_value','alfa','p1','n_group_1',\\\n",
    "                               'p2','n_group_2','decision_H0','grupos_comparados'])\n",
    "    \n",
    "    # creamos el ciclo para recorrer la lista de eventos\n",
    "    for event in eventos:    \n",
    "        # para cada usuario y grupo vamos a crear una lista\n",
    "        conversions=data[['device_id_hash','exp_id']].drop_duplicates()\n",
    "\n",
    "        # obtenemos los usuarios convertidos para un evento\n",
    "        converted=pd.DataFrame(data={\n",
    "                        \"device_id_hash\":data[data['event_name']==event]\\\n",
    "                        ['device_id_hash'].unique(),\"converted\":1})\n",
    "\n",
    "        # unimos 'conversions' con 'converted' para crear el dataframe de los usuarios convertidos en el evento\n",
    "        conversions=conversions.merge(converted,on=\"device_id_hash\",how=\"left\")\n",
    "\n",
    "        # para los usuarios no convertidos rellenamos con 'cero'\n",
    "        conversions['converted']=conversions['converted'].fillna(0)\n",
    "\n",
    "        # creamos la muestra para el group_1\n",
    "        sample_group_1=conversions[conversions['exp_id']==group_1]['converted']\n",
    "        # obtenemos el tamaño de la muestra\n",
    "        n1=len(sample_group_1)\n",
    "        # obtenemos la proporcion de  usuarios convertidos\n",
    "        p1=sample_group_1.mean()\n",
    "\n",
    "        # creamos la muestra para el group_2\n",
    "        sample_group_2=conversions[conversions['exp_id']==group_2]['converted']\n",
    "        # obtenemos el tamaño de la muestra\n",
    "        n2=len(sample_group_2)\n",
    "        # obtenemos la proporcion de  usuarios convertidos\n",
    "        p2=sample_group_2.mean()\n",
    "\n",
    "        # realizamos la prueba\n",
    "        statistics,p_value=st.ttest_ind(sample_group_1,sample_group_2)\n",
    "        \n",
    "        # decision de la prueba, rechazar H0 si:\n",
    "        if p_value < alfa:\n",
    "            decision='Rechazar H0'\n",
    "        else:\n",
    "            decision='No rechazar H0'\n",
    "\n",
    "        # guardamos cada uno de los resultados de la prueba en el dataframe\n",
    "        df.loc[len(df)] = [event,statistics,p_value,alfa,p1,n1,p2,n2,decision,\\\n",
    "                           str(group_1)+\" vs \"+str(group_2)]\n",
    "        \n",
    "    return df"
   ]
  },
  {
   "cell_type": "code",
   "execution_count": 138,
   "metadata": {},
   "outputs": [],
   "source": [
    "# obtenemos la lista de los eventos a aplicar la prueba\n",
    "eventos=filtered_logs[~filtered_logs['event_name'].isin(['Tutorial'])]['event_name'].unique()"
   ]
  },
  {
   "cell_type": "markdown",
   "metadata": {},
   "source": [
    "**Probaremos la hipótesis siguiente para cada tipo de evento:**\n",
    "\n",
    "**° Hipótesis nula:** la cantidad de usuarios convertidos en los grupos comparados es el mismo.\n",
    "\n",
    "**° Hipótesis alternativa:** la cantidad de usuarios convertidos en los grupos comparados no es el mismo.\n",
    "\n",
    "Ya que vamos a comparar la media de dos poblaciones, usaremos la prueba estadística 't de Student' (ttes_ind) con un nivel alpha=0.05 de significancia. Consideraremos las varianzas de los grupos como iguales."
   ]
  },
  {
   "cell_type": "code",
   "execution_count": 139,
   "metadata": {
    "scrolled": true
   },
   "outputs": [
    {
     "data": {
      "text/html": [
       "<div>\n",
       "<style scoped>\n",
       "    .dataframe tbody tr th:only-of-type {\n",
       "        vertical-align: middle;\n",
       "    }\n",
       "\n",
       "    .dataframe tbody tr th {\n",
       "        vertical-align: top;\n",
       "    }\n",
       "\n",
       "    .dataframe thead th {\n",
       "        text-align: right;\n",
       "    }\n",
       "</style>\n",
       "<table border=\"1\" class=\"dataframe\">\n",
       "  <thead>\n",
       "    <tr style=\"text-align: right;\">\n",
       "      <th></th>\n",
       "      <th>event_name</th>\n",
       "      <th>statistics</th>\n",
       "      <th>p_value</th>\n",
       "      <th>alfa</th>\n",
       "      <th>p1</th>\n",
       "      <th>n_group_1</th>\n",
       "      <th>p2</th>\n",
       "      <th>n_group_2</th>\n",
       "      <th>decision_H0</th>\n",
       "      <th>grupos_comparados</th>\n",
       "    </tr>\n",
       "  </thead>\n",
       "  <tbody>\n",
       "    <tr>\n",
       "      <th>0</th>\n",
       "      <td>MainScreenAppear</td>\n",
       "      <td>0.309285</td>\n",
       "      <td>0.757117</td>\n",
       "      <td>0.05</td>\n",
       "      <td>0.986312</td>\n",
       "      <td>2484</td>\n",
       "      <td>0.985277</td>\n",
       "      <td>2513</td>\n",
       "      <td>No rechazar H0</td>\n",
       "      <td>246 vs 247</td>\n",
       "    </tr>\n",
       "    <tr>\n",
       "      <th>1</th>\n",
       "      <td>OffersScreenAppear</td>\n",
       "      <td>1.154911</td>\n",
       "      <td>0.248182</td>\n",
       "      <td>0.05</td>\n",
       "      <td>0.620773</td>\n",
       "      <td>2484</td>\n",
       "      <td>0.604855</td>\n",
       "      <td>2513</td>\n",
       "      <td>No rechazar H0</td>\n",
       "      <td>246 vs 247</td>\n",
       "    </tr>\n",
       "    <tr>\n",
       "      <th>2</th>\n",
       "      <td>CartScreenAppear</td>\n",
       "      <td>1.203302</td>\n",
       "      <td>0.228916</td>\n",
       "      <td>0.05</td>\n",
       "      <td>0.509662</td>\n",
       "      <td>2484</td>\n",
       "      <td>0.492638</td>\n",
       "      <td>2513</td>\n",
       "      <td>No rechazar H0</td>\n",
       "      <td>246 vs 247</td>\n",
       "    </tr>\n",
       "    <tr>\n",
       "      <th>3</th>\n",
       "      <td>PaymentScreenSuccessful</td>\n",
       "      <td>1.578072</td>\n",
       "      <td>0.114612</td>\n",
       "      <td>0.05</td>\n",
       "      <td>0.483092</td>\n",
       "      <td>2484</td>\n",
       "      <td>0.460804</td>\n",
       "      <td>2513</td>\n",
       "      <td>No rechazar H0</td>\n",
       "      <td>246 vs 247</td>\n",
       "    </tr>\n",
       "  </tbody>\n",
       "</table>\n",
       "</div>"
      ],
      "text/plain": [
       "                event_name  statistics   p_value  alfa        p1 n_group_1  \\\n",
       "0         MainScreenAppear    0.309285  0.757117  0.05  0.986312      2484   \n",
       "1       OffersScreenAppear    1.154911  0.248182  0.05  0.620773      2484   \n",
       "2         CartScreenAppear    1.203302  0.228916  0.05  0.509662      2484   \n",
       "3  PaymentScreenSuccessful    1.578072  0.114612  0.05  0.483092      2484   \n",
       "\n",
       "         p2 n_group_2     decision_H0 grupos_comparados  \n",
       "0  0.985277      2513  No rechazar H0        246 vs 247  \n",
       "1  0.604855      2513  No rechazar H0        246 vs 247  \n",
       "2  0.492638      2513  No rechazar H0        246 vs 247  \n",
       "3  0.460804      2513  No rechazar H0        246 vs 247  "
      ]
     },
     "execution_count": 139,
     "metadata": {},
     "output_type": "execute_result"
    }
   ],
   "source": [
    "# aplicamos la funcion para realizar las pruebas t-test sobre los eventos y grupos de control\n",
    "ttest_comparation(data=filtered_logs,group_1=246,group_2=247,alfa=0.05,eventos=eventos)"
   ]
  },
  {
   "cell_type": "markdown",
   "metadata": {},
   "source": [
    "\n",
    "Para la comparación de los grupos de control (246 y 247), la proporción de los usuarios convertidos en cada uno de los eventos no se encuentran diferencias significativas, usando un valor alfa de 5%."
   ]
  },
  {
   "cell_type": "code",
   "execution_count": 140,
   "metadata": {
    "scrolled": true
   },
   "outputs": [
    {
     "data": {
      "text/html": [
       "<div>\n",
       "<style scoped>\n",
       "    .dataframe tbody tr th:only-of-type {\n",
       "        vertical-align: middle;\n",
       "    }\n",
       "\n",
       "    .dataframe tbody tr th {\n",
       "        vertical-align: top;\n",
       "    }\n",
       "\n",
       "    .dataframe thead th {\n",
       "        text-align: right;\n",
       "    }\n",
       "</style>\n",
       "<table border=\"1\" class=\"dataframe\">\n",
       "  <thead>\n",
       "    <tr style=\"text-align: right;\">\n",
       "      <th></th>\n",
       "      <th>event_name</th>\n",
       "      <th>statistics</th>\n",
       "      <th>p_value</th>\n",
       "      <th>alfa</th>\n",
       "      <th>p1</th>\n",
       "      <th>n_group_1</th>\n",
       "      <th>p2</th>\n",
       "      <th>n_group_2</th>\n",
       "      <th>decision_H0</th>\n",
       "      <th>grupos_comparados</th>\n",
       "    </tr>\n",
       "  </thead>\n",
       "  <tbody>\n",
       "    <tr>\n",
       "      <th>0</th>\n",
       "      <td>MainScreenAppear</td>\n",
       "      <td>1.047182</td>\n",
       "      <td>0.295066</td>\n",
       "      <td>0.05</td>\n",
       "      <td>0.986312</td>\n",
       "      <td>2484</td>\n",
       "      <td>0.982657</td>\n",
       "      <td>2537</td>\n",
       "      <td>No rechazar H0</td>\n",
       "      <td>246 vs 248</td>\n",
       "    </tr>\n",
       "    <tr>\n",
       "      <th>1</th>\n",
       "      <td>OffersScreenAppear</td>\n",
       "      <td>1.258030</td>\n",
       "      <td>0.208439</td>\n",
       "      <td>0.05</td>\n",
       "      <td>0.620773</td>\n",
       "      <td>2484</td>\n",
       "      <td>0.603469</td>\n",
       "      <td>2537</td>\n",
       "      <td>No rechazar H0</td>\n",
       "      <td>246 vs 248</td>\n",
       "    </tr>\n",
       "    <tr>\n",
       "      <th>2</th>\n",
       "      <td>CartScreenAppear</td>\n",
       "      <td>1.760066</td>\n",
       "      <td>0.078458</td>\n",
       "      <td>0.05</td>\n",
       "      <td>0.509662</td>\n",
       "      <td>2484</td>\n",
       "      <td>0.484825</td>\n",
       "      <td>2537</td>\n",
       "      <td>No rechazar H0</td>\n",
       "      <td>246 vs 248</td>\n",
       "    </tr>\n",
       "    <tr>\n",
       "      <th>3</th>\n",
       "      <td>PaymentScreenSuccessful</td>\n",
       "      <td>1.247333</td>\n",
       "      <td>0.212334</td>\n",
       "      <td>0.05</td>\n",
       "      <td>0.483092</td>\n",
       "      <td>2484</td>\n",
       "      <td>0.465510</td>\n",
       "      <td>2537</td>\n",
       "      <td>No rechazar H0</td>\n",
       "      <td>246 vs 248</td>\n",
       "    </tr>\n",
       "  </tbody>\n",
       "</table>\n",
       "</div>"
      ],
      "text/plain": [
       "                event_name  statistics   p_value  alfa        p1 n_group_1  \\\n",
       "0         MainScreenAppear    1.047182  0.295066  0.05  0.986312      2484   \n",
       "1       OffersScreenAppear    1.258030  0.208439  0.05  0.620773      2484   \n",
       "2         CartScreenAppear    1.760066  0.078458  0.05  0.509662      2484   \n",
       "3  PaymentScreenSuccessful    1.247333  0.212334  0.05  0.483092      2484   \n",
       "\n",
       "         p2 n_group_2     decision_H0 grupos_comparados  \n",
       "0  0.982657      2537  No rechazar H0        246 vs 248  \n",
       "1  0.603469      2537  No rechazar H0        246 vs 248  \n",
       "2  0.484825      2537  No rechazar H0        246 vs 248  \n",
       "3  0.465510      2537  No rechazar H0        246 vs 248  "
      ]
     },
     "execution_count": 140,
     "metadata": {},
     "output_type": "execute_result"
    }
   ],
   "source": [
    "# aplicamos la funcion para realizar las pruebas t-test sobre los eventos y grupos\n",
    "ttest_comparation(data=filtered_logs,group_1=246,group_2=248,alfa=0.05,eventos=eventos)"
   ]
  },
  {
   "cell_type": "markdown",
   "metadata": {},
   "source": [
    "\n",
    "Para la comparación del grupo de control \"246\" versus el grupo de prueba \"248\", la proporción de los usuarios convertidos en cada uno de los eventos no se encuentran diferencias significativas, usando un valor alfa de 5%."
   ]
  },
  {
   "cell_type": "code",
   "execution_count": 141,
   "metadata": {},
   "outputs": [
    {
     "data": {
      "text/html": [
       "<div>\n",
       "<style scoped>\n",
       "    .dataframe tbody tr th:only-of-type {\n",
       "        vertical-align: middle;\n",
       "    }\n",
       "\n",
       "    .dataframe tbody tr th {\n",
       "        vertical-align: top;\n",
       "    }\n",
       "\n",
       "    .dataframe thead th {\n",
       "        text-align: right;\n",
       "    }\n",
       "</style>\n",
       "<table border=\"1\" class=\"dataframe\">\n",
       "  <thead>\n",
       "    <tr style=\"text-align: right;\">\n",
       "      <th></th>\n",
       "      <th>event_name</th>\n",
       "      <th>statistics</th>\n",
       "      <th>p_value</th>\n",
       "      <th>alfa</th>\n",
       "      <th>p1</th>\n",
       "      <th>n_group_1</th>\n",
       "      <th>p2</th>\n",
       "      <th>n_group_2</th>\n",
       "      <th>decision_H0</th>\n",
       "      <th>grupos_comparados</th>\n",
       "    </tr>\n",
       "  </thead>\n",
       "  <tbody>\n",
       "    <tr>\n",
       "      <th>0</th>\n",
       "      <td>MainScreenAppear</td>\n",
       "      <td>0.740874</td>\n",
       "      <td>0.458804</td>\n",
       "      <td>0.05</td>\n",
       "      <td>0.985277</td>\n",
       "      <td>2513</td>\n",
       "      <td>0.982657</td>\n",
       "      <td>2537</td>\n",
       "      <td>No rechazar H0</td>\n",
       "      <td>247 vs 248</td>\n",
       "    </tr>\n",
       "    <tr>\n",
       "      <th>1</th>\n",
       "      <td>OffersScreenAppear</td>\n",
       "      <td>0.100689</td>\n",
       "      <td>0.919802</td>\n",
       "      <td>0.05</td>\n",
       "      <td>0.604855</td>\n",
       "      <td>2513</td>\n",
       "      <td>0.603469</td>\n",
       "      <td>2537</td>\n",
       "      <td>No rechazar H0</td>\n",
       "      <td>247 vs 248</td>\n",
       "    </tr>\n",
       "    <tr>\n",
       "      <th>2</th>\n",
       "      <td>CartScreenAppear</td>\n",
       "      <td>0.555309</td>\n",
       "      <td>0.578708</td>\n",
       "      <td>0.05</td>\n",
       "      <td>0.492638</td>\n",
       "      <td>2513</td>\n",
       "      <td>0.484825</td>\n",
       "      <td>2537</td>\n",
       "      <td>No rechazar H0</td>\n",
       "      <td>247 vs 248</td>\n",
       "    </tr>\n",
       "    <tr>\n",
       "      <th>3</th>\n",
       "      <td>PaymentScreenSuccessful</td>\n",
       "      <td>-0.335313</td>\n",
       "      <td>0.737403</td>\n",
       "      <td>0.05</td>\n",
       "      <td>0.460804</td>\n",
       "      <td>2513</td>\n",
       "      <td>0.465510</td>\n",
       "      <td>2537</td>\n",
       "      <td>No rechazar H0</td>\n",
       "      <td>247 vs 248</td>\n",
       "    </tr>\n",
       "  </tbody>\n",
       "</table>\n",
       "</div>"
      ],
      "text/plain": [
       "                event_name  statistics   p_value  alfa        p1 n_group_1  \\\n",
       "0         MainScreenAppear    0.740874  0.458804  0.05  0.985277      2513   \n",
       "1       OffersScreenAppear    0.100689  0.919802  0.05  0.604855      2513   \n",
       "2         CartScreenAppear    0.555309  0.578708  0.05  0.492638      2513   \n",
       "3  PaymentScreenSuccessful   -0.335313  0.737403  0.05  0.460804      2513   \n",
       "\n",
       "         p2 n_group_2     decision_H0 grupos_comparados  \n",
       "0  0.982657      2537  No rechazar H0        247 vs 248  \n",
       "1  0.603469      2537  No rechazar H0        247 vs 248  \n",
       "2  0.484825      2537  No rechazar H0        247 vs 248  \n",
       "3  0.465510      2537  No rechazar H0        247 vs 248  "
      ]
     },
     "execution_count": 141,
     "metadata": {},
     "output_type": "execute_result"
    }
   ],
   "source": [
    "# aplicamos la funcion para realizar las pruebas t-test sobre los eventos y grupos\n",
    "ttest_comparation(data=filtered_logs,group_1=247,group_2=248,alfa=0.05,eventos=eventos)"
   ]
  },
  {
   "cell_type": "markdown",
   "metadata": {},
   "source": [
    "\n",
    "Para la comparación del grupo de control \"247\" versus el grupo de prueba \"248\", la proporción de los usuarios convertidos en cada uno de los eventos no se encuentran diferencias significativas, usando un valor alfa de 5%.\n",
    "\n",
    "Para realizar la prueba combinada de los dos grupos de control versus el grupo de prueba vamos a crear un solo grupo de control."
   ]
  },
  {
   "cell_type": "code",
   "execution_count": 142,
   "metadata": {},
   "outputs": [],
   "source": [
    "# creamos una copia del dataframe 'filtered_logs' para hacer un reemplazo\n",
    "filtered_logs_copy=filtered_logs.copy()"
   ]
  },
  {
   "cell_type": "code",
   "execution_count": 143,
   "metadata": {},
   "outputs": [],
   "source": [
    "# reemplazamos el grupo de control '246' por el '247' para tener un solo grupo de control '247'\n",
    "filtered_logs_copy.loc[filtered_logs_copy['exp_id']==246,'exp_id']=247"
   ]
  },
  {
   "cell_type": "code",
   "execution_count": 144,
   "metadata": {},
   "outputs": [
    {
     "data": {
      "text/plain": [
       "247    156324\n",
       "248     84563\n",
       "Name: exp_id, dtype: int64"
      ]
     },
     "execution_count": 144,
     "metadata": {},
     "output_type": "execute_result"
    }
   ],
   "source": [
    "# verificamos que se haya hecho el reemplazo\n",
    "filtered_logs_copy['exp_id'].value_counts()"
   ]
  },
  {
   "cell_type": "code",
   "execution_count": 145,
   "metadata": {},
   "outputs": [
    {
     "data": {
      "text/html": [
       "<div>\n",
       "<style scoped>\n",
       "    .dataframe tbody tr th:only-of-type {\n",
       "        vertical-align: middle;\n",
       "    }\n",
       "\n",
       "    .dataframe tbody tr th {\n",
       "        vertical-align: top;\n",
       "    }\n",
       "\n",
       "    .dataframe thead th {\n",
       "        text-align: right;\n",
       "    }\n",
       "</style>\n",
       "<table border=\"1\" class=\"dataframe\">\n",
       "  <thead>\n",
       "    <tr style=\"text-align: right;\">\n",
       "      <th></th>\n",
       "      <th>event_name</th>\n",
       "      <th>statistics</th>\n",
       "      <th>p_value</th>\n",
       "      <th>alfa</th>\n",
       "      <th>p1</th>\n",
       "      <th>n_group_1</th>\n",
       "      <th>p2</th>\n",
       "      <th>n_group_2</th>\n",
       "      <th>decision_H0</th>\n",
       "      <th>grupos_comparados</th>\n",
       "    </tr>\n",
       "  </thead>\n",
       "  <tbody>\n",
       "    <tr>\n",
       "      <th>0</th>\n",
       "      <td>MainScreenAppear</td>\n",
       "      <td>1.048791</td>\n",
       "      <td>0.294308</td>\n",
       "      <td>0.05</td>\n",
       "      <td>0.985791</td>\n",
       "      <td>4997</td>\n",
       "      <td>0.982657</td>\n",
       "      <td>2537</td>\n",
       "      <td>No rechazar H0</td>\n",
       "      <td>247 vs 248</td>\n",
       "    </tr>\n",
       "    <tr>\n",
       "      <th>1</th>\n",
       "      <td>OffersScreenAppear</td>\n",
       "      <td>0.781858</td>\n",
       "      <td>0.434322</td>\n",
       "      <td>0.05</td>\n",
       "      <td>0.612768</td>\n",
       "      <td>4997</td>\n",
       "      <td>0.603469</td>\n",
       "      <td>2537</td>\n",
       "      <td>No rechazar H0</td>\n",
       "      <td>247 vs 248</td>\n",
       "    </tr>\n",
       "    <tr>\n",
       "      <th>2</th>\n",
       "      <td>CartScreenAppear</td>\n",
       "      <td>1.335340</td>\n",
       "      <td>0.181805</td>\n",
       "      <td>0.05</td>\n",
       "      <td>0.501101</td>\n",
       "      <td>4997</td>\n",
       "      <td>0.484825</td>\n",
       "      <td>2537</td>\n",
       "      <td>No rechazar H0</td>\n",
       "      <td>247 vs 248</td>\n",
       "    </tr>\n",
       "    <tr>\n",
       "      <th>3</th>\n",
       "      <td>PaymentScreenSuccessful</td>\n",
       "      <td>0.523723</td>\n",
       "      <td>0.600487</td>\n",
       "      <td>0.05</td>\n",
       "      <td>0.471883</td>\n",
       "      <td>4997</td>\n",
       "      <td>0.465510</td>\n",
       "      <td>2537</td>\n",
       "      <td>No rechazar H0</td>\n",
       "      <td>247 vs 248</td>\n",
       "    </tr>\n",
       "  </tbody>\n",
       "</table>\n",
       "</div>"
      ],
      "text/plain": [
       "                event_name  statistics   p_value  alfa        p1 n_group_1  \\\n",
       "0         MainScreenAppear    1.048791  0.294308  0.05  0.985791      4997   \n",
       "1       OffersScreenAppear    0.781858  0.434322  0.05  0.612768      4997   \n",
       "2         CartScreenAppear    1.335340  0.181805  0.05  0.501101      4997   \n",
       "3  PaymentScreenSuccessful    0.523723  0.600487  0.05  0.471883      4997   \n",
       "\n",
       "         p2 n_group_2     decision_H0 grupos_comparados  \n",
       "0  0.982657      2537  No rechazar H0        247 vs 248  \n",
       "1  0.603469      2537  No rechazar H0        247 vs 248  \n",
       "2  0.484825      2537  No rechazar H0        247 vs 248  \n",
       "3  0.465510      2537  No rechazar H0        247 vs 248  "
      ]
     },
     "execution_count": 145,
     "metadata": {},
     "output_type": "execute_result"
    }
   ],
   "source": [
    "# aplicamos la funcion para realizar las pruebas t-test sobre los eventos y grupos\n",
    "ttest_comparation(data=filtered_logs_copy,group_1=247,group_2=248,alfa=0.05,eventos=eventos)"
   ]
  },
  {
   "cell_type": "markdown",
   "metadata": {},
   "source": [
    "Para la comparación de los grupos de control combinados versus el grupo de prueba, la proporción de los usuarios convertidos en cada uno de los eventos no se encuentran diferencias significativas, usando un valor alfa de 5%."
   ]
  },
  {
   "cell_type": "markdown",
   "metadata": {},
   "source": [
    "## Nivel de significancia para la familia de pruebas realizadas"
   ]
  },
  {
   "cell_type": "markdown",
   "metadata": {},
   "source": [
    "Para estudiar el nivel de significación conjunto de las pruebas vamos contabilizar la cantidad total de pruebas realizadas y el nivel de significancia empleado en cada prueba.\n",
    "\n",
    "Hemos realizado un total de 16 pruebas 't-test' usando un valor alfa=0.05.\n",
    "\n",
    "El ajuste de Bonferroni se calcula realizando el número de pruebas y dividiéndolo por el valor alfa.\n",
    "\n",
    "es la tasa de error asociada a la famila de pruebas (FWER). Podemos ver que incrementa a medida que el número de pruebas incrementa. Para asegurar que la FWER es a lo más \n",
    " podemos hacer uso de la correción de Bonferroni \n"
   ]
  },
  {
   "cell_type": "code",
   "execution_count": 146,
   "metadata": {},
   "outputs": [
    {
     "name": "stdout",
     "output_type": "stream",
     "text": [
      "Nivel de significancia real:0.5598733313482347\n"
     ]
    }
   ],
   "source": [
    "# cantidad de pruebas\n",
    "n_pruebas=16\n",
    "# nivel de significancia empleado\n",
    "alfa=0.05\n",
    "\n",
    "# Nivel de significancia de la familia de pruebas\n",
    "alfa_real=1-(1-alfa)**n_pruebas\n",
    "\n",
    "print(f\"Nivel de significancia real:{alfa_real}\")"
   ]
  },
  {
   "cell_type": "markdown",
   "metadata": {},
   "source": [
    "Si aplicamos la correción de Bonferroni para alcanzar el nivel de significancia para el total de las pruebas realizadas debemos probar cada una de las hipótesis empleando un valor alfa en cada prueba de:"
   ]
  },
  {
   "cell_type": "code",
   "execution_count": 147,
   "metadata": {},
   "outputs": [
    {
     "data": {
      "text/plain": [
       "0.003125"
      ]
     },
     "execution_count": 147,
     "metadata": {},
     "output_type": "execute_result"
    }
   ],
   "source": [
    "# calculamos el nivel de significancia a usar en cada prueba para alcanzar el nivel alfa=0.05 para la familia de pruebas\n",
    "alfa_per_comparison=alfa/n_pruebas\n",
    "alfa_per_comparison"
   ]
  },
  {
   "cell_type": "markdown",
   "metadata": {},
   "source": [
    "Debemos entonces probar cada hipótesis usando un nivel alfa=0.003125 para poder alcanzar un nivel del 5% de significancia en el grupo de pruebas realizadas. Volvamos a realizar las pruebas empleando un nivel alfa=0.003125 en cada prueba."
   ]
  },
  {
   "cell_type": "code",
   "execution_count": 148,
   "metadata": {},
   "outputs": [
    {
     "data": {
      "text/html": [
       "<div>\n",
       "<style scoped>\n",
       "    .dataframe tbody tr th:only-of-type {\n",
       "        vertical-align: middle;\n",
       "    }\n",
       "\n",
       "    .dataframe tbody tr th {\n",
       "        vertical-align: top;\n",
       "    }\n",
       "\n",
       "    .dataframe thead th {\n",
       "        text-align: right;\n",
       "    }\n",
       "</style>\n",
       "<table border=\"1\" class=\"dataframe\">\n",
       "  <thead>\n",
       "    <tr style=\"text-align: right;\">\n",
       "      <th></th>\n",
       "      <th>event_name</th>\n",
       "      <th>statistics</th>\n",
       "      <th>p_value</th>\n",
       "      <th>alfa</th>\n",
       "      <th>p1</th>\n",
       "      <th>n_group_1</th>\n",
       "      <th>p2</th>\n",
       "      <th>n_group_2</th>\n",
       "      <th>decision_H0</th>\n",
       "      <th>grupos_comparados</th>\n",
       "    </tr>\n",
       "  </thead>\n",
       "  <tbody>\n",
       "    <tr>\n",
       "      <th>0</th>\n",
       "      <td>MainScreenAppear</td>\n",
       "      <td>0.309285</td>\n",
       "      <td>0.757117</td>\n",
       "      <td>0.003125</td>\n",
       "      <td>0.986312</td>\n",
       "      <td>2484</td>\n",
       "      <td>0.985277</td>\n",
       "      <td>2513</td>\n",
       "      <td>No rechazar H0</td>\n",
       "      <td>246 vs 247</td>\n",
       "    </tr>\n",
       "    <tr>\n",
       "      <th>1</th>\n",
       "      <td>OffersScreenAppear</td>\n",
       "      <td>1.154911</td>\n",
       "      <td>0.248182</td>\n",
       "      <td>0.003125</td>\n",
       "      <td>0.620773</td>\n",
       "      <td>2484</td>\n",
       "      <td>0.604855</td>\n",
       "      <td>2513</td>\n",
       "      <td>No rechazar H0</td>\n",
       "      <td>246 vs 247</td>\n",
       "    </tr>\n",
       "    <tr>\n",
       "      <th>2</th>\n",
       "      <td>CartScreenAppear</td>\n",
       "      <td>1.203302</td>\n",
       "      <td>0.228916</td>\n",
       "      <td>0.003125</td>\n",
       "      <td>0.509662</td>\n",
       "      <td>2484</td>\n",
       "      <td>0.492638</td>\n",
       "      <td>2513</td>\n",
       "      <td>No rechazar H0</td>\n",
       "      <td>246 vs 247</td>\n",
       "    </tr>\n",
       "    <tr>\n",
       "      <th>3</th>\n",
       "      <td>PaymentScreenSuccessful</td>\n",
       "      <td>1.578072</td>\n",
       "      <td>0.114612</td>\n",
       "      <td>0.003125</td>\n",
       "      <td>0.483092</td>\n",
       "      <td>2484</td>\n",
       "      <td>0.460804</td>\n",
       "      <td>2513</td>\n",
       "      <td>No rechazar H0</td>\n",
       "      <td>246 vs 247</td>\n",
       "    </tr>\n",
       "  </tbody>\n",
       "</table>\n",
       "</div>"
      ],
      "text/plain": [
       "                event_name  statistics   p_value      alfa        p1  \\\n",
       "0         MainScreenAppear    0.309285  0.757117  0.003125  0.986312   \n",
       "1       OffersScreenAppear    1.154911  0.248182  0.003125  0.620773   \n",
       "2         CartScreenAppear    1.203302  0.228916  0.003125  0.509662   \n",
       "3  PaymentScreenSuccessful    1.578072  0.114612  0.003125  0.483092   \n",
       "\n",
       "  n_group_1        p2 n_group_2     decision_H0 grupos_comparados  \n",
       "0      2484  0.985277      2513  No rechazar H0        246 vs 247  \n",
       "1      2484  0.604855      2513  No rechazar H0        246 vs 247  \n",
       "2      2484  0.492638      2513  No rechazar H0        246 vs 247  \n",
       "3      2484  0.460804      2513  No rechazar H0        246 vs 247  "
      ]
     },
     "execution_count": 148,
     "metadata": {},
     "output_type": "execute_result"
    }
   ],
   "source": [
    "\n",
    "# aplicamos la funcion para realizar las pruebas t-test sobre los eventos y grupos de control\n",
    "ttest_comparation(data=filtered_logs,group_1=246,group_2=247,alfa=0.003125,eventos=eventos)"
   ]
  },
  {
   "cell_type": "code",
   "execution_count": 149,
   "metadata": {},
   "outputs": [
    {
     "data": {
      "text/html": [
       "<div>\n",
       "<style scoped>\n",
       "    .dataframe tbody tr th:only-of-type {\n",
       "        vertical-align: middle;\n",
       "    }\n",
       "\n",
       "    .dataframe tbody tr th {\n",
       "        vertical-align: top;\n",
       "    }\n",
       "\n",
       "    .dataframe thead th {\n",
       "        text-align: right;\n",
       "    }\n",
       "</style>\n",
       "<table border=\"1\" class=\"dataframe\">\n",
       "  <thead>\n",
       "    <tr style=\"text-align: right;\">\n",
       "      <th></th>\n",
       "      <th>event_name</th>\n",
       "      <th>statistics</th>\n",
       "      <th>p_value</th>\n",
       "      <th>alfa</th>\n",
       "      <th>p1</th>\n",
       "      <th>n_group_1</th>\n",
       "      <th>p2</th>\n",
       "      <th>n_group_2</th>\n",
       "      <th>decision_H0</th>\n",
       "      <th>grupos_comparados</th>\n",
       "    </tr>\n",
       "  </thead>\n",
       "  <tbody>\n",
       "    <tr>\n",
       "      <th>0</th>\n",
       "      <td>MainScreenAppear</td>\n",
       "      <td>1.047182</td>\n",
       "      <td>0.295066</td>\n",
       "      <td>0.003125</td>\n",
       "      <td>0.986312</td>\n",
       "      <td>2484</td>\n",
       "      <td>0.982657</td>\n",
       "      <td>2537</td>\n",
       "      <td>No rechazar H0</td>\n",
       "      <td>246 vs 248</td>\n",
       "    </tr>\n",
       "    <tr>\n",
       "      <th>1</th>\n",
       "      <td>OffersScreenAppear</td>\n",
       "      <td>1.258030</td>\n",
       "      <td>0.208439</td>\n",
       "      <td>0.003125</td>\n",
       "      <td>0.620773</td>\n",
       "      <td>2484</td>\n",
       "      <td>0.603469</td>\n",
       "      <td>2537</td>\n",
       "      <td>No rechazar H0</td>\n",
       "      <td>246 vs 248</td>\n",
       "    </tr>\n",
       "    <tr>\n",
       "      <th>2</th>\n",
       "      <td>CartScreenAppear</td>\n",
       "      <td>1.760066</td>\n",
       "      <td>0.078458</td>\n",
       "      <td>0.003125</td>\n",
       "      <td>0.509662</td>\n",
       "      <td>2484</td>\n",
       "      <td>0.484825</td>\n",
       "      <td>2537</td>\n",
       "      <td>No rechazar H0</td>\n",
       "      <td>246 vs 248</td>\n",
       "    </tr>\n",
       "    <tr>\n",
       "      <th>3</th>\n",
       "      <td>PaymentScreenSuccessful</td>\n",
       "      <td>1.247333</td>\n",
       "      <td>0.212334</td>\n",
       "      <td>0.003125</td>\n",
       "      <td>0.483092</td>\n",
       "      <td>2484</td>\n",
       "      <td>0.465510</td>\n",
       "      <td>2537</td>\n",
       "      <td>No rechazar H0</td>\n",
       "      <td>246 vs 248</td>\n",
       "    </tr>\n",
       "  </tbody>\n",
       "</table>\n",
       "</div>"
      ],
      "text/plain": [
       "                event_name  statistics   p_value      alfa        p1  \\\n",
       "0         MainScreenAppear    1.047182  0.295066  0.003125  0.986312   \n",
       "1       OffersScreenAppear    1.258030  0.208439  0.003125  0.620773   \n",
       "2         CartScreenAppear    1.760066  0.078458  0.003125  0.509662   \n",
       "3  PaymentScreenSuccessful    1.247333  0.212334  0.003125  0.483092   \n",
       "\n",
       "  n_group_1        p2 n_group_2     decision_H0 grupos_comparados  \n",
       "0      2484  0.982657      2537  No rechazar H0        246 vs 248  \n",
       "1      2484  0.603469      2537  No rechazar H0        246 vs 248  \n",
       "2      2484  0.484825      2537  No rechazar H0        246 vs 248  \n",
       "3      2484  0.465510      2537  No rechazar H0        246 vs 248  "
      ]
     },
     "execution_count": 149,
     "metadata": {},
     "output_type": "execute_result"
    }
   ],
   "source": [
    "\n",
    "# aplicamos la funcion para realizar las pruebas t-test sobre los eventos y grupos de control\n",
    "ttest_comparation(data=filtered_logs,group_1=246,group_2=248,alfa=0.003125,eventos=eventos)"
   ]
  },
  {
   "cell_type": "code",
   "execution_count": 150,
   "metadata": {},
   "outputs": [
    {
     "data": {
      "text/html": [
       "<div>\n",
       "<style scoped>\n",
       "    .dataframe tbody tr th:only-of-type {\n",
       "        vertical-align: middle;\n",
       "    }\n",
       "\n",
       "    .dataframe tbody tr th {\n",
       "        vertical-align: top;\n",
       "    }\n",
       "\n",
       "    .dataframe thead th {\n",
       "        text-align: right;\n",
       "    }\n",
       "</style>\n",
       "<table border=\"1\" class=\"dataframe\">\n",
       "  <thead>\n",
       "    <tr style=\"text-align: right;\">\n",
       "      <th></th>\n",
       "      <th>event_name</th>\n",
       "      <th>statistics</th>\n",
       "      <th>p_value</th>\n",
       "      <th>alfa</th>\n",
       "      <th>p1</th>\n",
       "      <th>n_group_1</th>\n",
       "      <th>p2</th>\n",
       "      <th>n_group_2</th>\n",
       "      <th>decision_H0</th>\n",
       "      <th>grupos_comparados</th>\n",
       "    </tr>\n",
       "  </thead>\n",
       "  <tbody>\n",
       "    <tr>\n",
       "      <th>0</th>\n",
       "      <td>MainScreenAppear</td>\n",
       "      <td>0.740874</td>\n",
       "      <td>0.458804</td>\n",
       "      <td>0.003125</td>\n",
       "      <td>0.985277</td>\n",
       "      <td>2513</td>\n",
       "      <td>0.982657</td>\n",
       "      <td>2537</td>\n",
       "      <td>No rechazar H0</td>\n",
       "      <td>247 vs 248</td>\n",
       "    </tr>\n",
       "    <tr>\n",
       "      <th>1</th>\n",
       "      <td>OffersScreenAppear</td>\n",
       "      <td>0.100689</td>\n",
       "      <td>0.919802</td>\n",
       "      <td>0.003125</td>\n",
       "      <td>0.604855</td>\n",
       "      <td>2513</td>\n",
       "      <td>0.603469</td>\n",
       "      <td>2537</td>\n",
       "      <td>No rechazar H0</td>\n",
       "      <td>247 vs 248</td>\n",
       "    </tr>\n",
       "    <tr>\n",
       "      <th>2</th>\n",
       "      <td>CartScreenAppear</td>\n",
       "      <td>0.555309</td>\n",
       "      <td>0.578708</td>\n",
       "      <td>0.003125</td>\n",
       "      <td>0.492638</td>\n",
       "      <td>2513</td>\n",
       "      <td>0.484825</td>\n",
       "      <td>2537</td>\n",
       "      <td>No rechazar H0</td>\n",
       "      <td>247 vs 248</td>\n",
       "    </tr>\n",
       "    <tr>\n",
       "      <th>3</th>\n",
       "      <td>PaymentScreenSuccessful</td>\n",
       "      <td>-0.335313</td>\n",
       "      <td>0.737403</td>\n",
       "      <td>0.003125</td>\n",
       "      <td>0.460804</td>\n",
       "      <td>2513</td>\n",
       "      <td>0.465510</td>\n",
       "      <td>2537</td>\n",
       "      <td>No rechazar H0</td>\n",
       "      <td>247 vs 248</td>\n",
       "    </tr>\n",
       "  </tbody>\n",
       "</table>\n",
       "</div>"
      ],
      "text/plain": [
       "                event_name  statistics   p_value      alfa        p1  \\\n",
       "0         MainScreenAppear    0.740874  0.458804  0.003125  0.985277   \n",
       "1       OffersScreenAppear    0.100689  0.919802  0.003125  0.604855   \n",
       "2         CartScreenAppear    0.555309  0.578708  0.003125  0.492638   \n",
       "3  PaymentScreenSuccessful   -0.335313  0.737403  0.003125  0.460804   \n",
       "\n",
       "  n_group_1        p2 n_group_2     decision_H0 grupos_comparados  \n",
       "0      2513  0.982657      2537  No rechazar H0        247 vs 248  \n",
       "1      2513  0.603469      2537  No rechazar H0        247 vs 248  \n",
       "2      2513  0.484825      2537  No rechazar H0        247 vs 248  \n",
       "3      2513  0.465510      2537  No rechazar H0        247 vs 248  "
      ]
     },
     "execution_count": 150,
     "metadata": {},
     "output_type": "execute_result"
    }
   ],
   "source": [
    "# aplicamos la funcion para realizar las pruebas t-test sobre los eventos y grupos de control\n",
    "ttest_comparation(data=filtered_logs,group_1=247,group_2=248,alfa=0.003125,eventos=eventos)"
   ]
  },
  {
   "cell_type": "code",
   "execution_count": 151,
   "metadata": {},
   "outputs": [
    {
     "data": {
      "text/html": [
       "<div>\n",
       "<style scoped>\n",
       "    .dataframe tbody tr th:only-of-type {\n",
       "        vertical-align: middle;\n",
       "    }\n",
       "\n",
       "    .dataframe tbody tr th {\n",
       "        vertical-align: top;\n",
       "    }\n",
       "\n",
       "    .dataframe thead th {\n",
       "        text-align: right;\n",
       "    }\n",
       "</style>\n",
       "<table border=\"1\" class=\"dataframe\">\n",
       "  <thead>\n",
       "    <tr style=\"text-align: right;\">\n",
       "      <th></th>\n",
       "      <th>event_name</th>\n",
       "      <th>statistics</th>\n",
       "      <th>p_value</th>\n",
       "      <th>alfa</th>\n",
       "      <th>p1</th>\n",
       "      <th>n_group_1</th>\n",
       "      <th>p2</th>\n",
       "      <th>n_group_2</th>\n",
       "      <th>decision_H0</th>\n",
       "      <th>grupos_comparados</th>\n",
       "    </tr>\n",
       "  </thead>\n",
       "  <tbody>\n",
       "    <tr>\n",
       "      <th>0</th>\n",
       "      <td>MainScreenAppear</td>\n",
       "      <td>1.048791</td>\n",
       "      <td>0.294308</td>\n",
       "      <td>0.003125</td>\n",
       "      <td>0.985791</td>\n",
       "      <td>4997</td>\n",
       "      <td>0.982657</td>\n",
       "      <td>2537</td>\n",
       "      <td>No rechazar H0</td>\n",
       "      <td>247 vs 248</td>\n",
       "    </tr>\n",
       "    <tr>\n",
       "      <th>1</th>\n",
       "      <td>OffersScreenAppear</td>\n",
       "      <td>0.781858</td>\n",
       "      <td>0.434322</td>\n",
       "      <td>0.003125</td>\n",
       "      <td>0.612768</td>\n",
       "      <td>4997</td>\n",
       "      <td>0.603469</td>\n",
       "      <td>2537</td>\n",
       "      <td>No rechazar H0</td>\n",
       "      <td>247 vs 248</td>\n",
       "    </tr>\n",
       "    <tr>\n",
       "      <th>2</th>\n",
       "      <td>CartScreenAppear</td>\n",
       "      <td>1.335340</td>\n",
       "      <td>0.181805</td>\n",
       "      <td>0.003125</td>\n",
       "      <td>0.501101</td>\n",
       "      <td>4997</td>\n",
       "      <td>0.484825</td>\n",
       "      <td>2537</td>\n",
       "      <td>No rechazar H0</td>\n",
       "      <td>247 vs 248</td>\n",
       "    </tr>\n",
       "    <tr>\n",
       "      <th>3</th>\n",
       "      <td>PaymentScreenSuccessful</td>\n",
       "      <td>0.523723</td>\n",
       "      <td>0.600487</td>\n",
       "      <td>0.003125</td>\n",
       "      <td>0.471883</td>\n",
       "      <td>4997</td>\n",
       "      <td>0.465510</td>\n",
       "      <td>2537</td>\n",
       "      <td>No rechazar H0</td>\n",
       "      <td>247 vs 248</td>\n",
       "    </tr>\n",
       "  </tbody>\n",
       "</table>\n",
       "</div>"
      ],
      "text/plain": [
       "                event_name  statistics   p_value      alfa        p1  \\\n",
       "0         MainScreenAppear    1.048791  0.294308  0.003125  0.985791   \n",
       "1       OffersScreenAppear    0.781858  0.434322  0.003125  0.612768   \n",
       "2         CartScreenAppear    1.335340  0.181805  0.003125  0.501101   \n",
       "3  PaymentScreenSuccessful    0.523723  0.600487  0.003125  0.471883   \n",
       "\n",
       "  n_group_1        p2 n_group_2     decision_H0 grupos_comparados  \n",
       "0      4997  0.982657      2537  No rechazar H0        247 vs 248  \n",
       "1      4997  0.603469      2537  No rechazar H0        247 vs 248  \n",
       "2      4997  0.484825      2537  No rechazar H0        247 vs 248  \n",
       "3      4997  0.465510      2537  No rechazar H0        247 vs 248  "
      ]
     },
     "execution_count": 151,
     "metadata": {},
     "output_type": "execute_result"
    }
   ],
   "source": [
    "# aplicamos la funcion para realizar las pruebas t-test sobre los eventos y grupos\n",
    "ttest_comparation(data=filtered_logs_copy,group_1=247,group_2=248,alfa=0.003125,eventos=eventos)"
   ]
  },
  {
   "cell_type": "markdown",
   "metadata": {},
   "source": [
    "Podemos notar que en ninguna de las pruebas se rechaza la hipótesis nula y además con el valor de significancia alfa=0.003125 en cada prueba podemos alcanzar un nivel general de significancia menor a 0.05."
   ]
  },
  {
   "cell_type": "code",
   "execution_count": 152,
   "metadata": {},
   "outputs": [
    {
     "data": {
      "text/plain": [
       "0.048845042569365726"
      ]
     },
     "execution_count": 152,
     "metadata": {},
     "output_type": "execute_result"
    }
   ],
   "source": [
    "# comprobamos el nivel de significancia para la familia de pruebas\n",
    "alfa_real=1-(1-alfa_per_comparison)**n_pruebas\n",
    "alfa_real"
   ]
  },
  {
   "cell_type": "markdown",
   "metadata": {},
   "source": [
    "# Conlusión\n"
   ]
  },
  {
   "cell_type": "markdown",
   "metadata": {},
   "source": [
    "\n",
    "No se encontraron diferencias significativas entre los grupos de control y el grupo de prueba para el uso de la aplicación. No esperamos comportamientos distintos de los usuarios ante la nueva implementación."
   ]
  }
 ],
 "metadata": {
  "kernelspec": {
   "display_name": "Python 3 (ipykernel)",
   "language": "python",
   "name": "python3"
  },
  "language_info": {
   "codemirror_mode": {
    "name": "ipython",
    "version": 3
   },
   "file_extension": ".py",
   "mimetype": "text/x-python",
   "name": "python",
   "nbconvert_exporter": "python",
   "pygments_lexer": "ipython3",
   "version": "3.9.5"
  },
  "toc": {
   "base_numbering": 1,
   "nav_menu": {},
   "number_sections": true,
   "sideBar": true,
   "skip_h1_title": true,
   "title_cell": "Table of Contents",
   "title_sidebar": "Contents",
   "toc_cell": false,
   "toc_position": {},
   "toc_section_display": true,
   "toc_window_display": false
  }
 },
 "nbformat": 4,
 "nbformat_minor": 2
}
